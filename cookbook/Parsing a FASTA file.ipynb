{
 "metadata": {
  "language": "Julia",
  "name": "",
  "signature": "sha256:4a871a13dd74f7b4bc5bb1412c34bbc2f4ecaff4bcf311c8fda0fbb30480cef4"
 },
 "nbformat": 3,
 "nbformat_minor": 0,
 "worksheets": [
  {
   "cells": [
    {
     "cell_type": "code",
     "collapsed": false,
     "input": [
      "using MIToS.MSA"
     ],
     "language": "python",
     "metadata": {},
     "outputs": [],
     "prompt_number": 1
    },
    {
     "cell_type": "code",
     "collapsed": false,
     "input": [
      "aln = readfasta(\"../test/data/Gaoetal2011.fasta\")"
     ],
     "language": "python",
     "metadata": {},
     "outputs": [
      {
       "metadata": {},
       "output_type": "pyout",
       "prompt_number": 2,
       "text": [
        "MIToS.MSA.MultipleSequenceAlignment \n",
        "  id: MIToS.MSA.IndexedVector{ASCIIString} \n",
        "    values: Array(ASCIIString,(6,)) ASCIIString[\"SEQ1\",\"SEQ2\",\"SEQ3\",\"SEQ4\",\"SEQ5\",\"SEQ6\"]\n",
        "    value2index: Dict{ASCIIString,Int64} len 6\n",
        "      SEQ2: Int64 2\n",
        "      SEQ1: Int64 1\n",
        "      SEQ3: Int64 3\n",
        "      SEQ5: Int64 5\n",
        "      SEQ6: Int64 6\n",
        "      SEQ4: Int64 4\n",
        "  msa: Array(MIToS.MSA.Residue,(6,6)) 6x6 Array{MIToS.MSA.Residue,2}:\n",
        " D  A  W  A  E  E\n",
        " D  A  W  A  E  F\n",
        " D  A  W  A  E  D\n",
        " D  A  Y  C  M  D\n",
        " D  A  Y  C  M  T\n",
        " D  A  Y  C  M  T\n",
        "  sequencemapping: Array(Int64,(6,6)) 6x6 Array{Int64,2}:\n",
        " 1  2  3  4  5  6\n",
        " 1  2  3  4  5  6\n",
        " 1  2  3  4  5  6\n",
        " 1  2  3  4  5  6\n",
        " 1  2  3  4  5  6\n",
        " 1  2  3  4  5  6\n",
        "  filecolumnmapping: MIToS.MSA.IndexedVector{Int64} \n",
        "    values: Array(Int64,(6,)) [1,2,3,4,5,6]\n",
        "    value2index: Dict{Int64,Int64} len 6\n",
        "      4: Int64 4\n",
        "      2: Int64 2\n",
        "      3: Int64 3\n",
        "      5: Int64 5\n",
        "      6: Int64 6\n",
        "      1: Int64 1\n",
        "  annotations: MIToS.MSA.Annotations \n",
        "    file: Dict{ASCIIString,ASCIIString} len 0\n",
        "    sequences: Dict{Tuple{ASCIIString,ASCIIString},ASCIIString} len 0\n",
        "    columns: Dict{ASCIIString,ASCIIString} len 0\n",
        "    residues: Dict{Tuple{ASCIIString,ASCIIString},ASCIIString} len 0\n"
       ]
      }
     ],
     "prompt_number": 2
    },
    {
     "cell_type": "code",
     "collapsed": false,
     "input": [
      "printfasta(aln)"
     ],
     "language": "python",
     "metadata": {},
     "outputs": [
      {
       "output_type": "stream",
       "stream": "stdout",
       "text": [
        ">SEQ1\n",
        "DAWAEE\n"
       ]
      },
      {
       "output_type": "stream",
       "stream": "stdout",
       "text": [
        ">SEQ2\n",
        "DAWAEF\n",
        ">SEQ3\n",
        "DAWAED\n",
        ">SEQ4\n",
        "DAYCMD\n",
        ">SEQ5\n",
        "DAYCMT\n",
        ">SEQ6\n",
        "DAYCMT\n"
       ]
      }
     ],
     "prompt_number": 3
    },
    {
     "cell_type": "code",
     "collapsed": false,
     "input": [],
     "language": "python",
     "metadata": {},
     "outputs": []
    }
   ],
   "metadata": {}
  }
 ]
}