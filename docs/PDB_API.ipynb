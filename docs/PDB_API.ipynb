{
 "cells": [
  {
   "cell_type": "markdown",
   "metadata": {},
   "source": [
    "# PDB API\n",
    "\n",
    "- [Types](#Types)\n",
    "    - [Formats](#Formats)\n",
    "    - [Utils](#Utils)\n",
    "- [Constants](#Constants)\n",
    "- [Macros](#Macros)\n",
    "- [Methods](#Methods)\n",
    "    - [Retrieve](#Retrieve)\n",
    "    - [Interactions](#Interactions)\n",
    "    - [Selections](#Selections)\n",
    "    - [Structure comparison](#Structure-comparison)\n",
    "    - [Imported from MIToS.Utils](#Imported-from-MIToS.Utils)\n",
    "    - [Imported from Base](#Imported-from-Base)"
   ]
  },
  {
   "cell_type": "code",
   "execution_count": 1,
   "metadata": {
    "collapsed": false
   },
   "outputs": [],
   "source": [
    "using MIToS.PDB"
   ]
  },
  {
   "cell_type": "code",
   "execution_count": 2,
   "metadata": {
    "collapsed": false
   },
   "outputs": [
    {
     "data": {
      "text/latex": [
       "The module \\texttt{PDB} defines types and methods to work with protein structures inside Julia. It is useful to link structural and sequential information, and needed for measure the predictive performance at protein contact prediction of mutual information scores.\n",
       "\\textbf{Features}\n",
       "\\begin{itemize}\n",
       "\\item Read and parse PDF and PDBML files\n",
       "\\item Calculate distance and contacts between atoms or residues\n",
       "\\item Determine interaction between residues\n",
       "\\end{itemize}\n",
       "\\begin{verbatim}\n",
       "\n",
       "using MIToS.PDB\n",
       "\\end{verbatim}\n"
      ],
      "text/markdown": [
       "The module `PDB` defines types and methods to work with protein structures inside Julia. It is useful to link structural and sequential information, and needed for measure the predictive performance at protein contact prediction of mutual information scores.\n",
       "\n",
       "**Features**\n",
       "\n",
       "  * Read and parse PDF and PDBML files\n",
       "  * Calculate distance and contacts between atoms or residues\n",
       "  * Determine interaction between residues\n",
       "\n",
       "```julia\n",
       "\n",
       "using MIToS.PDB\n",
       "```\n"
      ],
      "text/plain": [
       "The module `PDB` defines types and methods to work with protein structures inside Julia. It is useful to link structural and sequential information, and needed for measure the predictive performance at protein contact prediction of mutual information scores.\n",
       "\n",
       "**Features**\n",
       "\n",
       "  * Read and parse PDF and PDBML files\n",
       "  * Calculate distance and contacts between atoms or residues\n",
       "  * Determine interaction between residues\n",
       "\n",
       "```julia\n",
       "\n",
       "using MIToS.PDB\n",
       "```\n"
      ]
     },
     "execution_count": 2,
     "metadata": {},
     "output_type": "execute_result"
    }
   ],
   "source": [
    "?MIToS.PDB"
   ]
  },
  {
   "cell_type": "markdown",
   "metadata": {},
   "source": [
    "<div class=\"panel panel-info\">\n",
    "    <div class=\"panel-heading\">\n",
    "        <strong>Julia help mode</strong>\n",
    "    </div>\n",
    "    <div class=\"panel-body\">\n",
    "        <p>If you type <code>?</code> at the beginning of the Julia REPL line, you will enter in the Julia help mode. In this mode, Julia prints the help or <strong>documentation</strong> of the entered element. This is a nice way of getting information about MIToS functions, types, etc. from Julia.</p>\n",
    "    </div>\n",
    "</div>"
   ]
  },
  {
   "cell_type": "markdown",
   "metadata": {},
   "source": [
    "<a href=\"#\"><i class=\"fa fa-arrow-up\"></i></a>\n",
    "\n",
    "## Types"
   ]
  },
  {
   "cell_type": "code",
   "execution_count": 5,
   "metadata": {
    "collapsed": false
   },
   "outputs": [
    {
     "data": {
      "text/latex": [
       "No documentation found.\n",
       "\\textbf{Summary:}\n",
       "\\begin{verbatim}\n",
       "immutable MIToS.PDB.PDBResidueIdentifier <: Any\n",
       "\\end{verbatim}\n",
       "\\textbf{Fields:}\n",
       "\\begin{verbatim}\n",
       "PDBe_number :: ASCIIString\n",
       "number      :: ASCIIString\n",
       "name        :: ASCIIString\n",
       "group       :: ASCIIString\n",
       "model       :: ASCIIString\n",
       "chain       :: ASCIIString\n",
       "\\end{verbatim}\n"
      ],
      "text/markdown": [
       "No documentation found.\n",
       "\n",
       "**Summary:**\n",
       "\n",
       "```julia\n",
       "immutable MIToS.PDB.PDBResidueIdentifier <: Any\n",
       "```\n",
       "\n",
       "**Fields:**\n",
       "\n",
       "```julia\n",
       "PDBe_number :: ASCIIString\n",
       "number      :: ASCIIString\n",
       "name        :: ASCIIString\n",
       "group       :: ASCIIString\n",
       "model       :: ASCIIString\n",
       "chain       :: ASCIIString\n",
       "```\n"
      ],
      "text/plain": [
       "No documentation found.\n",
       "\n",
       "**Summary:**\n",
       "\n",
       "```julia\n",
       "immutable MIToS.PDB.PDBResidueIdentifier <: Any\n",
       "```\n",
       "\n",
       "**Fields:**\n",
       "\n",
       "```julia\n",
       "PDBe_number :: ASCIIString\n",
       "number      :: ASCIIString\n",
       "name        :: ASCIIString\n",
       "group       :: ASCIIString\n",
       "model       :: ASCIIString\n",
       "chain       :: ASCIIString\n",
       "```\n"
      ]
     },
     "execution_count": 5,
     "metadata": {},
     "output_type": "execute_result"
    }
   ],
   "source": [
    "?MIToS.PDB.PDBResidueIdentifier"
   ]
  },
  {
   "cell_type": "code",
   "execution_count": 6,
   "metadata": {
    "collapsed": false
   },
   "outputs": [
    {
     "data": {
      "text/latex": [
       "No documentation found.\n",
       "\\textbf{Summary:}\n",
       "\\begin{verbatim}\n",
       "immutable MIToS.PDB.Coordinates <: FixedSizeArrays.FixedVectorNoTuple{3,Float64}\n",
       "\\end{verbatim}\n",
       "\\textbf{Fields:}\n",
       "\\begin{verbatim}\n",
       "x :: Float64\n",
       "y :: Float64\n",
       "z :: Float64\n",
       "\\end{verbatim}\n"
      ],
      "text/markdown": [
       "No documentation found.\n",
       "\n",
       "**Summary:**\n",
       "\n",
       "```julia\n",
       "immutable MIToS.PDB.Coordinates <: FixedSizeArrays.FixedVectorNoTuple{3,Float64}\n",
       "```\n",
       "\n",
       "**Fields:**\n",
       "\n",
       "```julia\n",
       "x :: Float64\n",
       "y :: Float64\n",
       "z :: Float64\n",
       "```\n"
      ],
      "text/plain": [
       "No documentation found.\n",
       "\n",
       "**Summary:**\n",
       "\n",
       "```julia\n",
       "immutable MIToS.PDB.Coordinates <: FixedSizeArrays.FixedVectorNoTuple{3,Float64}\n",
       "```\n",
       "\n",
       "**Fields:**\n",
       "\n",
       "```julia\n",
       "x :: Float64\n",
       "y :: Float64\n",
       "z :: Float64\n",
       "```\n"
      ]
     },
     "execution_count": 6,
     "metadata": {},
     "output_type": "execute_result"
    }
   ],
   "source": [
    "?MIToS.PDB.Coordinates"
   ]
  },
  {
   "cell_type": "code",
   "execution_count": 7,
   "metadata": {
    "collapsed": false
   },
   "outputs": [
    {
     "data": {
      "text/latex": [
       "No documentation found.\n",
       "\\textbf{Summary:}\n",
       "\\begin{verbatim}\n",
       "immutable MIToS.PDB.PDBAtom <: Any\n",
       "\\end{verbatim}\n",
       "\\textbf{Fields:}\n",
       "\\begin{verbatim}\n",
       "coordinates :: MIToS.PDB.Coordinates\n",
       "atom        :: ASCIIString\n",
       "element     :: ASCIIString\n",
       "occupancy   :: Float64\n",
       "B           :: ASCIIString\n",
       "\\end{verbatim}\n"
      ],
      "text/markdown": [
       "No documentation found.\n",
       "\n",
       "**Summary:**\n",
       "\n",
       "```julia\n",
       "immutable MIToS.PDB.PDBAtom <: Any\n",
       "```\n",
       "\n",
       "**Fields:**\n",
       "\n",
       "```julia\n",
       "coordinates :: MIToS.PDB.Coordinates\n",
       "atom        :: ASCIIString\n",
       "element     :: ASCIIString\n",
       "occupancy   :: Float64\n",
       "B           :: ASCIIString\n",
       "```\n"
      ],
      "text/plain": [
       "No documentation found.\n",
       "\n",
       "**Summary:**\n",
       "\n",
       "```julia\n",
       "immutable MIToS.PDB.PDBAtom <: Any\n",
       "```\n",
       "\n",
       "**Fields:**\n",
       "\n",
       "```julia\n",
       "coordinates :: MIToS.PDB.Coordinates\n",
       "atom        :: ASCIIString\n",
       "element     :: ASCIIString\n",
       "occupancy   :: Float64\n",
       "B           :: ASCIIString\n",
       "```\n"
      ]
     },
     "execution_count": 7,
     "metadata": {},
     "output_type": "execute_result"
    }
   ],
   "source": [
    "?MIToS.PDB.PDBAtom"
   ]
  },
  {
   "cell_type": "code",
   "execution_count": 8,
   "metadata": {
    "collapsed": false
   },
   "outputs": [
    {
     "data": {
      "text/latex": [
       "No documentation found.\n",
       "\\textbf{Summary:}\n",
       "\\begin{verbatim}\n",
       "type MIToS.PDB.PDBResidue <: Any\n",
       "\\end{verbatim}\n",
       "\\textbf{Fields:}\n",
       "\\begin{verbatim}\n",
       "id    :: MIToS.PDB.PDBResidueIdentifier\n",
       "atoms :: Array{MIToS.PDB.PDBAtom,1}\n",
       "\\end{verbatim}\n"
      ],
      "text/markdown": [
       "No documentation found.\n",
       "\n",
       "**Summary:**\n",
       "\n",
       "```julia\n",
       "type MIToS.PDB.PDBResidue <: Any\n",
       "```\n",
       "\n",
       "**Fields:**\n",
       "\n",
       "```julia\n",
       "id    :: MIToS.PDB.PDBResidueIdentifier\n",
       "atoms :: Array{MIToS.PDB.PDBAtom,1}\n",
       "```\n"
      ],
      "text/plain": [
       "No documentation found.\n",
       "\n",
       "**Summary:**\n",
       "\n",
       "```julia\n",
       "type MIToS.PDB.PDBResidue <: Any\n",
       "```\n",
       "\n",
       "**Fields:**\n",
       "\n",
       "```julia\n",
       "id    :: MIToS.PDB.PDBResidueIdentifier\n",
       "atoms :: Array{MIToS.PDB.PDBAtom,1}\n",
       "```\n"
      ]
     },
     "execution_count": 8,
     "metadata": {},
     "output_type": "execute_result"
    }
   ],
   "source": [
    "?MIToS.PDB.PDBResidue"
   ]
  },
  {
   "cell_type": "markdown",
   "metadata": {},
   "source": [
    "<a href=\"#\"><i class=\"fa fa-arrow-up\"></i></a>\n",
    "\n",
    "### Formats"
   ]
  },
  {
   "cell_type": "code",
   "execution_count": 9,
   "metadata": {
    "collapsed": false
   },
   "outputs": [
    {
     "data": {
      "text/latex": [
       "\\texttt{PDBFile <: Format}\n",
       "Protein Data Bank (PDB) format. It provides a standard representation for macromolecular structure data derived from X-ray diffraction and NMR studies.\n"
      ],
      "text/markdown": [
       "`PDBFile <: Format`\n",
       "\n",
       "Protein Data Bank (PDB) format. It provides a standard representation for macromolecular structure data derived from X-ray diffraction and NMR studies.\n"
      ],
      "text/plain": [
       "`PDBFile <: Format`\n",
       "\n",
       "Protein Data Bank (PDB) format. It provides a standard representation for macromolecular structure data derived from X-ray diffraction and NMR studies.\n"
      ]
     },
     "execution_count": 9,
     "metadata": {},
     "output_type": "execute_result"
    }
   ],
   "source": [
    "?MIToS.PDB.PDBFile"
   ]
  },
  {
   "cell_type": "code",
   "execution_count": 10,
   "metadata": {
    "collapsed": false
   },
   "outputs": [
    {
     "data": {
      "text/latex": [
       "\\texttt{PDBML <: Format}\n",
       "Protein Data Bank Markup Language (PDBML), a representation of PDB data in XML format.\n"
      ],
      "text/markdown": [
       "`PDBML <: Format`\n",
       "\n",
       "Protein Data Bank Markup Language (PDBML), a representation of PDB data in XML format.\n"
      ],
      "text/plain": [
       "`PDBML <: Format`\n",
       "\n",
       "Protein Data Bank Markup Language (PDBML), a representation of PDB data in XML format.\n"
      ]
     },
     "execution_count": 10,
     "metadata": {},
     "output_type": "execute_result"
    }
   ],
   "source": [
    "?MIToS.PDB.PDBML"
   ]
  },
  {
   "cell_type": "markdown",
   "metadata": {},
   "source": [
    "<a href=\"#\"><i class=\"fa fa-arrow-up\"></i></a>\n",
    "\n",
    "### Utils"
   ]
  },
  {
   "cell_type": "code",
   "execution_count": 11,
   "metadata": {
    "collapsed": false
   },
   "outputs": [
    {
     "data": {
      "text/latex": [
       "No documentation found.\n",
       "\\textbf{Summary:}\n",
       "\\begin{verbatim}\n",
       "immutable MIToS.Utils.Is{T} <: MIToS.Utils.TestType\n",
       "\\end{verbatim}\n",
       "\\textbf{Fields:}\n",
       "\\begin{verbatim}\n",
       "field :: Symbol\n",
       "value :: T\n",
       "\\end{verbatim}\n"
      ],
      "text/markdown": [
       "No documentation found.\n",
       "\n",
       "**Summary:**\n",
       "\n",
       "```julia\n",
       "immutable MIToS.Utils.Is{T} <: MIToS.Utils.TestType\n",
       "```\n",
       "\n",
       "**Fields:**\n",
       "\n",
       "```julia\n",
       "field :: Symbol\n",
       "value :: T\n",
       "```\n"
      ],
      "text/plain": [
       "No documentation found.\n",
       "\n",
       "**Summary:**\n",
       "\n",
       "```julia\n",
       "immutable MIToS.Utils.Is{T} <: MIToS.Utils.TestType\n",
       "```\n",
       "\n",
       "**Fields:**\n",
       "\n",
       "```julia\n",
       "field :: Symbol\n",
       "value :: T\n",
       "```\n"
      ]
     },
     "execution_count": 11,
     "metadata": {},
     "output_type": "execute_result"
    }
   ],
   "source": [
    "?MIToS.PDB.Is"
   ]
  },
  {
   "cell_type": "code",
   "execution_count": 12,
   "metadata": {
    "collapsed": false
   },
   "outputs": [
    {
     "data": {
      "text/latex": [
       "No documentation found.\n",
       "\\textbf{Summary:}\n",
       "\\begin{verbatim}\n",
       "immutable MIToS.Utils.Not{T<:MIToS.Utils.TestType} <: MIToS.Utils.TestOperation\n",
       "\\end{verbatim}\n",
       "\\textbf{Fields:}\n",
       "\\begin{verbatim}\n",
       "test :: T<:MIToS.Utils.TestType\n",
       "\\end{verbatim}\n"
      ],
      "text/markdown": [
       "No documentation found.\n",
       "\n",
       "**Summary:**\n",
       "\n",
       "```julia\n",
       "immutable MIToS.Utils.Not{T<:MIToS.Utils.TestType} <: MIToS.Utils.TestOperation\n",
       "```\n",
       "\n",
       "**Fields:**\n",
       "\n",
       "```julia\n",
       "test :: T<:MIToS.Utils.TestType\n",
       "```\n"
      ],
      "text/plain": [
       "No documentation found.\n",
       "\n",
       "**Summary:**\n",
       "\n",
       "```julia\n",
       "immutable MIToS.Utils.Not{T<:MIToS.Utils.TestType} <: MIToS.Utils.TestOperation\n",
       "```\n",
       "\n",
       "**Fields:**\n",
       "\n",
       "```julia\n",
       "test :: T<:MIToS.Utils.TestType\n",
       "```\n"
      ]
     },
     "execution_count": 12,
     "metadata": {},
     "output_type": "execute_result"
    }
   ],
   "source": [
    "?MIToS.PDB.Not"
   ]
  },
  {
   "cell_type": "code",
   "execution_count": 13,
   "metadata": {
    "collapsed": false
   },
   "outputs": [
    {
     "data": {
      "text/latex": [
       "No documentation found.\n",
       "\\textbf{Summary:}\n",
       "\\begin{verbatim}\n",
       "immutable MIToS.Utils.In{T} <: MIToS.Utils.TestType\n",
       "\\end{verbatim}\n",
       "\\textbf{Fields:}\n",
       "\\begin{verbatim}\n",
       "field :: Symbol\n",
       "value :: T\n",
       "\\end{verbatim}\n"
      ],
      "text/markdown": [
       "No documentation found.\n",
       "\n",
       "**Summary:**\n",
       "\n",
       "```julia\n",
       "immutable MIToS.Utils.In{T} <: MIToS.Utils.TestType\n",
       "```\n",
       "\n",
       "**Fields:**\n",
       "\n",
       "```julia\n",
       "field :: Symbol\n",
       "value :: T\n",
       "```\n"
      ],
      "text/plain": [
       "No documentation found.\n",
       "\n",
       "**Summary:**\n",
       "\n",
       "```julia\n",
       "immutable MIToS.Utils.In{T} <: MIToS.Utils.TestType\n",
       "```\n",
       "\n",
       "**Fields:**\n",
       "\n",
       "```julia\n",
       "field :: Symbol\n",
       "value :: T\n",
       "```\n"
      ]
     },
     "execution_count": 13,
     "metadata": {},
     "output_type": "execute_result"
    }
   ],
   "source": [
    "?MIToS.PDB.In"
   ]
  },
  {
   "cell_type": "markdown",
   "metadata": {},
   "source": [
    "<a href=\"#\"><i class=\"fa fa-arrow-up\"></i></a>\n",
    "\n",
    "## Constants"
   ]
  },
  {
   "cell_type": "code",
   "execution_count": 14,
   "metadata": {
    "collapsed": false
   },
   "outputs": [
    {
     "data": {
      "text/latex": [
       "Covalent radius in Å of each element from the Additional file 1 of PICCOLO [1]. Hydrogen was updated using the value on Table 2 from Cordero et. al. [2].\n",
       "\\begin{enumerate}\n",
       "\\item Bickerton, G. R., Higueruelo, A. P., \\& Blundell, T. L. (2011). Comprehensive, atomic-level characterization of structurally characterized protein-protein interactions: the PICCOLO database. BMC bioinformatics, 12(1), 313.\n",
       "\\item Cordero, B., Gómez, V., Platero-Prats, A. E., Revés, M., Echeverría, J., Cremades, E., ... \\& Alvarez, S. (2008). Covalent radii revisited. Dalton Transactions, (21), 2832-2838.\n",
       "\\end{enumerate}\n"
      ],
      "text/markdown": [
       "Covalent radius in Å of each element from the Additional file 1 of PICCOLO [1]. Hydrogen was updated using the value on Table 2 from Cordero et. al. [2].\n",
       "\n",
       "1. Bickerton, G. R., Higueruelo, A. P., & Blundell, T. L. (2011). Comprehensive, atomic-level characterization of structurally characterized protein-protein interactions: the PICCOLO database. BMC bioinformatics, 12(1), 313.\n",
       "2. Cordero, B., Gómez, V., Platero-Prats, A. E., Revés, M., Echeverría, J., Cremades, E., ... & Alvarez, S. (2008). Covalent radii revisited. Dalton Transactions, (21), 2832-2838.\n"
      ],
      "text/plain": [
       "Covalent radius in Å of each element from the Additional file 1 of PICCOLO [1]. Hydrogen was updated using the value on Table 2 from Cordero et. al. [2].\n",
       "\n",
       "1. Bickerton, G. R., Higueruelo, A. P., & Blundell, T. L. (2011). Comprehensive, atomic-level characterization of structurally characterized protein-protein interactions: the PICCOLO database. BMC bioinformatics, 12(1), 313.\n",
       "2. Cordero, B., Gómez, V., Platero-Prats, A. E., Revés, M., Echeverría, J., Cremades, E., ... & Alvarez, S. (2008). Covalent radii revisited. Dalton Transactions, (21), 2832-2838.\n"
      ]
     },
     "execution_count": 14,
     "metadata": {},
     "output_type": "execute_result"
    }
   ],
   "source": [
    "?MIToS.PDB.covalentradius"
   ]
  },
  {
   "cell_type": "code",
   "execution_count": 15,
   "metadata": {
    "collapsed": false
   },
   "outputs": [
    {
     "data": {
      "text/latex": [
       "van der Waals radius in Å from the Additional file 1 of Bickerton et. al. 2011\n",
       "\\begin{itemize}\n",
       "\\item Bickerton, G. R., Higueruelo, A. P., \\& Blundell, T. L. (2011). Comprehensive, atomic-level characterization of structurally characterized protein-protein interactions: the PICCOLO database. BMC bioinformatics, 12(1), 313.\n",
       "\\end{itemize}\n"
      ],
      "text/markdown": [
       "van der Waals radius in Å from the Additional file 1 of Bickerton et. al. 2011\n",
       "\n",
       "  * Bickerton, G. R., Higueruelo, A. P., & Blundell, T. L. (2011). Comprehensive, atomic-level characterization of structurally characterized protein-protein interactions: the PICCOLO database. BMC bioinformatics, 12(1), 313.\n"
      ],
      "text/plain": [
       "van der Waals radius in Å from the Additional file 1 of Bickerton et. al. 2011\n",
       "\n",
       "  * Bickerton, G. R., Higueruelo, A. P., & Blundell, T. L. (2011). Comprehensive, atomic-level characterization of structurally characterized protein-protein interactions: the PICCOLO database. BMC bioinformatics, 12(1), 313.\n"
      ]
     },
     "execution_count": 15,
     "metadata": {},
     "output_type": "execute_result"
    }
   ],
   "source": [
    "?MIToS.PDB.vanderwaalsradius"
   ]
  },
  {
   "cell_type": "markdown",
   "metadata": {},
   "source": [
    "<a href=\"#\"><i class=\"fa fa-arrow-up\"></i></a>\n",
    "\n",
    "## Macros"
   ]
  },
  {
   "cell_type": "code",
   "execution_count": 16,
   "metadata": {
    "collapsed": false
   },
   "outputs": [
    {
     "data": {
      "text/latex": [
       "\\texttt{@residues ... model ... chain ... group ... residue ...}\n",
       "These return a new vector with the selected subset of residues from a list of residues.\n"
      ],
      "text/markdown": [
       "`@residues ... model ... chain ... group ... residue ...`\n",
       "\n",
       "These return a new vector with the selected subset of residues from a list of residues.\n"
      ],
      "text/plain": [
       "`@residues ... model ... chain ... group ... residue ...`\n",
       "\n",
       "These return a new vector with the selected subset of residues from a list of residues.\n"
      ]
     },
     "execution_count": 16,
     "metadata": {},
     "output_type": "execute_result"
    }
   ],
   "source": [
    "?MIToS.PDB.@residues"
   ]
  },
  {
   "cell_type": "code",
   "execution_count": 17,
   "metadata": {
    "collapsed": false
   },
   "outputs": [
    {
     "data": {
      "text/latex": [
       "\\texttt{@atoms ... model ... chain ... group ... residue ... atom ...}\n",
       "These return a vector of \\texttt{PDBAtom}s with the selected subset of atoms.\n"
      ],
      "text/markdown": [
       "`@atoms ... model ... chain ... group ... residue ... atom ...`\n",
       "\n",
       "These return a vector of `PDBAtom`s with the selected subset of atoms.\n"
      ],
      "text/plain": [
       "`@atoms ... model ... chain ... group ... residue ... atom ...`\n",
       "\n",
       "These return a vector of `PDBAtom`s with the selected subset of atoms.\n"
      ]
     },
     "execution_count": 17,
     "metadata": {},
     "output_type": "execute_result"
    }
   ],
   "source": [
    "?MIToS.PDB.@atoms"
   ]
  },
  {
   "cell_type": "code",
   "execution_count": 18,
   "metadata": {
    "collapsed": false
   },
   "outputs": [
    {
     "data": {
      "text/latex": [
       "\\texttt{@residuesdict ... model ... chain ... group ... residue ...}\n",
       "These return a dictionary (using PDB residue numbers as keys) with the selected subset of residues.\n"
      ],
      "text/markdown": [
       "`@residuesdict ... model ... chain ... group ... residue ...`\n",
       "\n",
       "These return a dictionary (using PDB residue numbers as keys) with the selected subset of residues.\n"
      ],
      "text/plain": [
       "`@residuesdict ... model ... chain ... group ... residue ...`\n",
       "\n",
       "These return a dictionary (using PDB residue numbers as keys) with the selected subset of residues.\n"
      ]
     },
     "execution_count": 18,
     "metadata": {},
     "output_type": "execute_result"
    }
   ],
   "source": [
    "?MIToS.PDB.@residuesdict"
   ]
  },
  {
   "cell_type": "markdown",
   "metadata": {},
   "source": [
    "<a href=\"#\"><i class=\"fa fa-arrow-up\"></i></a>\n",
    "\n",
    "## Methods"
   ]
  },
  {
   "cell_type": "code",
   "execution_count": 19,
   "metadata": {
    "collapsed": false
   },
   "outputs": [
    {
     "data": {
      "text/latex": [
       "\\texttt{proximitymean} calculates the proximity mean/average for each residue as the average score (from a \\texttt{scores} list) of all the residues within a certain physical distance to a given amino acid. The score of that residue is not included in the mean unless you set \\texttt{include} to \\texttt{true}. The default values are 6.05 for the distance threshold/\\texttt{limit} and \"Heavy\" for the \\texttt{criteria} keyword argument. This function allows to calculate pMI (proximity mutual information) and pC (proximity conservation) as in Buslje et. al. 2010.\n",
       "Buslje, Cristina Marino, Elin Teppa, Tomas Di Doménico, José María Delfino, and Morten Nielsen. \\emph{Networks of high mutual information define the structural proximity of catalytic sites: implications for catalytic residue identification.} PLoS Comput Biol 6, no. 11 (2010): e1000978.\n"
      ],
      "text/markdown": [
       "`proximitymean` calculates the proximity mean/average for each residue as the average score (from a `scores` list) of all the residues within a certain physical distance to a given amino acid. The score of that residue is not included in the mean unless you set `include` to `true`. The default values are 6.05 for the distance threshold/`limit` and \"Heavy\" for the `criteria` keyword argument. This function allows to calculate pMI (proximity mutual information) and pC (proximity conservation) as in Buslje et. al. 2010.\n",
       "\n",
       "Buslje, Cristina Marino, Elin Teppa, Tomas Di Doménico, José María Delfino, and Morten Nielsen. *Networks of high mutual information define the structural proximity of catalytic sites: implications for catalytic residue identification.* PLoS Comput Biol 6, no. 11 (2010): e1000978.\n"
      ],
      "text/plain": [
       "`proximitymean` calculates the proximity mean/average for each residue as the average score (from a `scores` list) of all the residues within a certain physical distance to a given amino acid. The score of that residue is not included in the mean unless you set `include` to `true`. The default values are 6.05 for the distance threshold/`limit` and \"Heavy\" for the `criteria` keyword argument. This function allows to calculate pMI (proximity mutual information) and pC (proximity conservation) as in Buslje et. al. 2010.\n",
       "\n",
       "Buslje, Cristina Marino, Elin Teppa, Tomas Di Doménico, José María Delfino, and Morten Nielsen. *Networks of high mutual information define the structural proximity of catalytic sites: implications for catalytic residue identification.* PLoS Comput Biol 6, no. 11 (2010): e1000978.\n"
      ]
     },
     "execution_count": 19,
     "metadata": {},
     "output_type": "execute_result"
    }
   ],
   "source": [
    "?MIToS.PDB.proximitymean"
   ]
  },
  {
   "cell_type": "markdown",
   "metadata": {},
   "source": [
    "<a href=\"#\"><i class=\"fa fa-arrow-up\"></i></a>\n",
    "\n",
    "### Retrieve"
   ]
  },
  {
   "cell_type": "code",
   "execution_count": 20,
   "metadata": {
    "collapsed": false
   },
   "outputs": [
    {
     "data": {
      "text/latex": [
       "Download a gzipped PDB file from PDB database. Requires a four character \\texttt{pdbcode}. By default the \\texttt{format} is xml and uses the \\texttt{baseurl} http://www.rcsb.org/pdb/files/. \\texttt{outfile} is the path/name of the output file.\n"
      ],
      "text/markdown": [
       "Download a gzipped PDB file from PDB database. Requires a four character `pdbcode`. By default the `format` is xml and uses the `baseurl` http://www.rcsb.org/pdb/files/. `outfile` is the path/name of the output file.\n"
      ],
      "text/plain": [
       "Download a gzipped PDB file from PDB database. Requires a four character `pdbcode`. By default the `format` is xml and uses the `baseurl` http://www.rcsb.org/pdb/files/. `outfile` is the path/name of the output file.\n"
      ]
     },
     "execution_count": 20,
     "metadata": {},
     "output_type": "execute_result"
    }
   ],
   "source": [
    "?MIToS.PDB.downloadpdb"
   ]
  },
  {
   "cell_type": "code",
   "execution_count": 21,
   "metadata": {
    "collapsed": false
   },
   "outputs": [
    {
     "data": {
      "text/latex": [
       "Access general information about a PDB entry (e.g., Header information) using the RESTful interface of the PDB database (describePDB). Returns a Dict for the four character \\texttt{pdbcode}.\n"
      ],
      "text/markdown": [
       "Access general information about a PDB entry (e.g., Header information) using the RESTful interface of the PDB database (describePDB). Returns a Dict for the four character `pdbcode`.\n"
      ],
      "text/plain": [
       "Access general information about a PDB entry (e.g., Header information) using the RESTful interface of the PDB database (describePDB). Returns a Dict for the four character `pdbcode`.\n"
      ]
     },
     "execution_count": 21,
     "metadata": {},
     "output_type": "execute_result"
    }
   ],
   "source": [
    "?MIToS.PDB.getpdbdescription"
   ]
  },
  {
   "cell_type": "markdown",
   "metadata": {},
   "source": [
    "<a href=\"#\"><i class=\"fa fa-arrow-up\"></i></a>\n",
    "\n",
    "### Interactions"
   ]
  },
  {
   "cell_type": "code",
   "execution_count": 22,
   "metadata": {
    "collapsed": false
   },
   "outputs": [
    {
     "data": {
      "text/latex": [
       "\\texttt{distance(vec::Vector{PDBResidue}; criteria::ASCIIString=\"All\")}\n",
       "If \\texttt{distance} takes a \\texttt{Vector{PDBResidue}} returns a \\texttt{PairwiseListMatrix{Float64, false}} with all the pairwise comparisons (distance matrix).\n",
       "\\texttt{distance(a::PDBResidue, b::PDBResidue; criteria::ASCIIString=\"All\")}\n",
       "Returns the distance between the residues \\texttt{a} and \\texttt{b}. The available \\texttt{criteria} are: \\texttt{Heavy}, \\texttt{All}, \\texttt{CA}, \\texttt{CB} (\\texttt{CA} for \\texttt{GLY})\n"
      ],
      "text/markdown": [
       "`distance(vec::Vector{PDBResidue}; criteria::ASCIIString=\"All\")`\n",
       "\n",
       "If `distance` takes a `Vector{PDBResidue}` returns a `PairwiseListMatrix{Float64, false}` with all the pairwise comparisons (distance matrix).\n",
       "\n",
       "`distance(a::PDBResidue, b::PDBResidue; criteria::ASCIIString=\"All\")`\n",
       "\n",
       "Returns the distance between the residues `a` and `b`. The available `criteria` are: `Heavy`, `All`, `CA`, `CB` (`CA` for `GLY`)\n"
      ],
      "text/plain": [
       "`distance(vec::Vector{PDBResidue}; criteria::ASCIIString=\"All\")`\n",
       "\n",
       "If `distance` takes a `Vector{PDBResidue}` returns a `PairwiseListMatrix{Float64, false}` with all the pairwise comparisons (distance matrix).\n",
       "\n",
       "`distance(a::PDBResidue, b::PDBResidue; criteria::ASCIIString=\"All\")`\n",
       "\n",
       "Returns the distance between the residues `a` and `b`. The available `criteria` are: `Heavy`, `All`, `CA`, `CB` (`CA` for `GLY`)\n"
      ]
     },
     "execution_count": 22,
     "metadata": {},
     "output_type": "execute_result"
    }
   ],
   "source": [
    "?MIToS.PDB.distance"
   ]
  },
  {
   "cell_type": "code",
   "execution_count": 23,
   "metadata": {
    "collapsed": false
   },
   "outputs": [
    {
     "data": {
      "text/latex": [
       "\\texttt{contact(vec::Vector{PDBResidue}, limit::AbstractFloat; criteria::ASCIIString=\"All\")}\n",
       "If \\texttt{contact} takes a \\texttt{Vector{PDBResidue}}, It returns a \\texttt{BitMatrix} with all the pairwise comparisons (contact map).\n",
       "\\texttt{contact(a::PDBResidue, b::PDBResidue, limit::AbstractFloat; criteria::ASCIIString=\"All\")}\n",
       "Returns \\texttt{true} if the residues \\texttt{a} and \\texttt{b} are at contact distance (\\texttt{limit}). The available distance \\texttt{criteria} are: \\texttt{Heavy}, \\texttt{All}, \\texttt{CA}, \\texttt{CB} (\\texttt{CA} for \\texttt{GLY})\n",
       "\\texttt{contact(a::Coordinates, b::Coordinates, limit::AbstractFloat)}\n",
       "This simply returns \\texttt{distance(a,b) <= limit}.\n"
      ],
      "text/markdown": [
       "`contact(vec::Vector{PDBResidue}, limit::AbstractFloat; criteria::ASCIIString=\"All\")`\n",
       "\n",
       "If `contact` takes a `Vector{PDBResidue}`, It returns a `BitMatrix` with all the pairwise comparisons (contact map).\n",
       "\n",
       "`contact(a::PDBResidue, b::PDBResidue, limit::AbstractFloat; criteria::ASCIIString=\"All\")`\n",
       "\n",
       "Returns `true` if the residues `a` and `b` are at contact distance (`limit`). The available distance `criteria` are: `Heavy`, `All`, `CA`, `CB` (`CA` for `GLY`)\n",
       "\n",
       "`contact(a::Coordinates, b::Coordinates, limit::AbstractFloat)`\n",
       "\n",
       "This simply returns `distance(a,b) <= limit`.\n"
      ],
      "text/plain": [
       "`contact(vec::Vector{PDBResidue}, limit::AbstractFloat; criteria::ASCIIString=\"All\")`\n",
       "\n",
       "If `contact` takes a `Vector{PDBResidue}`, It returns a `BitMatrix` with all the pairwise comparisons (contact map).\n",
       "\n",
       "`contact(a::PDBResidue, b::PDBResidue, limit::AbstractFloat; criteria::ASCIIString=\"All\")`\n",
       "\n",
       "Returns `true` if the residues `a` and `b` are at contact distance (`limit`). The available distance `criteria` are: `Heavy`, `All`, `CA`, `CB` (`CA` for `GLY`)\n",
       "\n",
       "`contact(a::Coordinates, b::Coordinates, limit::AbstractFloat)`\n",
       "\n",
       "This simply returns `distance(a,b) <= limit`.\n"
      ]
     },
     "execution_count": 23,
     "metadata": {},
     "output_type": "execute_result"
    }
   ],
   "source": [
    "?MIToS.PDB.contact"
   ]
  },
  {
   "cell_type": "code",
   "execution_count": 24,
   "metadata": {
    "collapsed": false
   },
   "outputs": [
    {
     "data": {
      "text/latex": [
       "\\begin{verbatim}\n",
       "angle(z)\n",
       "\\end{verbatim}\n",
       "Compute the phase angle in radians of a complex number \\texttt{z}\n",
       "\\texttt{angle(a::Coordinates, b::Coordinates, c::Coordinates)}\n",
       "Angle (in degrees) at \\texttt{b} between \\texttt{a-b} and \\texttt{b-c}\n"
      ],
      "text/markdown": [
       "```\n",
       "angle(z)\n",
       "```\n",
       "\n",
       "Compute the phase angle in radians of a complex number `z`\n",
       "\n",
       "`angle(a::Coordinates, b::Coordinates, c::Coordinates)`\n",
       "\n",
       "Angle (in degrees) at `b` between `a-b` and `b-c`\n"
      ],
      "text/plain": [
       "```\n",
       "angle(z)\n",
       "```\n",
       "\n",
       "Compute the phase angle in radians of a complex number `z`\n",
       "\n",
       "`angle(a::Coordinates, b::Coordinates, c::Coordinates)`\n",
       "\n",
       "Angle (in degrees) at `b` between `a-b` and `b-c`\n"
      ]
     },
     "execution_count": 24,
     "metadata": {},
     "output_type": "execute_result"
    }
   ],
   "source": [
    "?MIToS.PDB.angle"
   ]
  },
  {
   "cell_type": "code",
   "execution_count": 25,
   "metadata": {
    "collapsed": false
   },
   "outputs": [
    {
     "data": {
      "text/latex": [
       "This function takes a \\texttt{PDBResidue} and returns \\texttt{true} only if all the atoms can be used for checking interactions.\n"
      ],
      "text/markdown": [
       "This function takes a `PDBResidue` and returns `true` only if all the atoms can be used for checking interactions.\n"
      ],
      "text/plain": [
       "This function takes a `PDBResidue` and returns `true` only if all the atoms can be used for checking interactions.\n"
      ]
     },
     "execution_count": 25,
     "metadata": {},
     "output_type": "execute_result"
    }
   ],
   "source": [
    "?MIToS.PDB.check_atoms_for_interactions"
   ]
  },
  {
   "cell_type": "code",
   "execution_count": 26,
   "metadata": {
    "collapsed": false
   },
   "outputs": [
    {
     "data": {
      "text/latex": [
       "No documentation found.\n",
       "\\texttt{MIToS.PDB.ishydrophobic} is a generic \\texttt{Function}.\n",
       "\\begin{verbatim}\n",
       "# 1 method for generic function \"ishydrophobic\":\n",
       "ishydrophobic(a::MIToS.PDB.PDBAtom, resname_a::ASCIIString) at /home/dzea/.julia/v0.4/MIToS/src/PDB/Interaction.jl:5\n",
       "\\end{verbatim}\n"
      ],
      "text/markdown": [
       "No documentation found.\n",
       "\n",
       "`MIToS.PDB.ishydrophobic` is a generic `Function`.\n",
       "\n",
       "```julia\n",
       "# 1 method for generic function \"ishydrophobic\":\n",
       "ishydrophobic(a::MIToS.PDB.PDBAtom, resname_a::ASCIIString) at /home/dzea/.julia/v0.4/MIToS/src/PDB/Interaction.jl:5\n",
       "```\n"
      ],
      "text/plain": [
       "No documentation found.\n",
       "\n",
       "`MIToS.PDB.ishydrophobic` is a generic `Function`.\n",
       "\n",
       "```julia\n",
       "# 1 method for generic function \"ishydrophobic\":\n",
       "ishydrophobic(a::MIToS.PDB.PDBAtom, resname_a::ASCIIString) at /home/dzea/.julia/v0.4/MIToS/src/PDB/Interaction.jl:5\n",
       "```\n"
      ]
     },
     "execution_count": 26,
     "metadata": {},
     "output_type": "execute_result"
    }
   ],
   "source": [
    "?MIToS.PDB.ishydrophobic"
   ]
  },
  {
   "cell_type": "code",
   "execution_count": 27,
   "metadata": {
    "collapsed": false
   },
   "outputs": [
    {
     "data": {
      "text/latex": [
       "No documentation found.\n",
       "\\texttt{MIToS.PDB.isaromatic} is a generic \\texttt{Function}.\n",
       "\\begin{verbatim}\n",
       "# 1 method for generic function \"isaromatic\":\n",
       "isaromatic(a::MIToS.PDB.PDBAtom, resname_a::ASCIIString) at /home/dzea/.julia/v0.4/MIToS/src/PDB/Interaction.jl:7\n",
       "\\end{verbatim}\n"
      ],
      "text/markdown": [
       "No documentation found.\n",
       "\n",
       "`MIToS.PDB.isaromatic` is a generic `Function`.\n",
       "\n",
       "```julia\n",
       "# 1 method for generic function \"isaromatic\":\n",
       "isaromatic(a::MIToS.PDB.PDBAtom, resname_a::ASCIIString) at /home/dzea/.julia/v0.4/MIToS/src/PDB/Interaction.jl:7\n",
       "```\n"
      ],
      "text/plain": [
       "No documentation found.\n",
       "\n",
       "`MIToS.PDB.isaromatic` is a generic `Function`.\n",
       "\n",
       "```julia\n",
       "# 1 method for generic function \"isaromatic\":\n",
       "isaromatic(a::MIToS.PDB.PDBAtom, resname_a::ASCIIString) at /home/dzea/.julia/v0.4/MIToS/src/PDB/Interaction.jl:7\n",
       "```\n"
      ]
     },
     "execution_count": 27,
     "metadata": {},
     "output_type": "execute_result"
    }
   ],
   "source": [
    "?MIToS.PDB.isaromatic"
   ]
  },
  {
   "cell_type": "code",
   "execution_count": 28,
   "metadata": {
    "collapsed": false
   },
   "outputs": [
    {
     "data": {
      "text/latex": [
       "No documentation found.\n",
       "\\texttt{MIToS.PDB.iscationic} is a generic \\texttt{Function}.\n",
       "\\begin{verbatim}\n",
       "# 1 method for generic function \"iscationic\":\n",
       "iscationic(a::MIToS.PDB.PDBAtom, resname_a::ASCIIString) at /home/dzea/.julia/v0.4/MIToS/src/PDB/Interaction.jl:9\n",
       "\\end{verbatim}\n"
      ],
      "text/markdown": [
       "No documentation found.\n",
       "\n",
       "`MIToS.PDB.iscationic` is a generic `Function`.\n",
       "\n",
       "```julia\n",
       "# 1 method for generic function \"iscationic\":\n",
       "iscationic(a::MIToS.PDB.PDBAtom, resname_a::ASCIIString) at /home/dzea/.julia/v0.4/MIToS/src/PDB/Interaction.jl:9\n",
       "```\n"
      ],
      "text/plain": [
       "No documentation found.\n",
       "\n",
       "`MIToS.PDB.iscationic` is a generic `Function`.\n",
       "\n",
       "```julia\n",
       "# 1 method for generic function \"iscationic\":\n",
       "iscationic(a::MIToS.PDB.PDBAtom, resname_a::ASCIIString) at /home/dzea/.julia/v0.4/MIToS/src/PDB/Interaction.jl:9\n",
       "```\n"
      ]
     },
     "execution_count": 28,
     "metadata": {},
     "output_type": "execute_result"
    }
   ],
   "source": [
    "?MIToS.PDB.iscationic"
   ]
  },
  {
   "cell_type": "code",
   "execution_count": 29,
   "metadata": {
    "collapsed": false
   },
   "outputs": [
    {
     "data": {
      "text/latex": [
       "No documentation found.\n",
       "\\texttt{MIToS.PDB.isanionic} is a generic \\texttt{Function}.\n",
       "\\begin{verbatim}\n",
       "# 1 method for generic function \"isanionic\":\n",
       "isanionic(a::MIToS.PDB.PDBAtom, resname_a::ASCIIString) at /home/dzea/.julia/v0.4/MIToS/src/PDB/Interaction.jl:11\n",
       "\\end{verbatim}\n"
      ],
      "text/markdown": [
       "No documentation found.\n",
       "\n",
       "`MIToS.PDB.isanionic` is a generic `Function`.\n",
       "\n",
       "```julia\n",
       "# 1 method for generic function \"isanionic\":\n",
       "isanionic(a::MIToS.PDB.PDBAtom, resname_a::ASCIIString) at /home/dzea/.julia/v0.4/MIToS/src/PDB/Interaction.jl:11\n",
       "```\n"
      ],
      "text/plain": [
       "No documentation found.\n",
       "\n",
       "`MIToS.PDB.isanionic` is a generic `Function`.\n",
       "\n",
       "```julia\n",
       "# 1 method for generic function \"isanionic\":\n",
       "isanionic(a::MIToS.PDB.PDBAtom, resname_a::ASCIIString) at /home/dzea/.julia/v0.4/MIToS/src/PDB/Interaction.jl:11\n",
       "```\n"
      ]
     },
     "execution_count": 29,
     "metadata": {},
     "output_type": "execute_result"
    }
   ],
   "source": [
    "?MIToS.PDB.isanionic"
   ]
  },
  {
   "cell_type": "code",
   "execution_count": 30,
   "metadata": {
    "collapsed": false
   },
   "outputs": [
    {
     "data": {
      "text/latex": [
       "No documentation found.\n",
       "\\texttt{MIToS.PDB.ishbonddonor} is a generic \\texttt{Function}.\n",
       "\\begin{verbatim}\n",
       "# 1 method for generic function \"ishbonddonor\":\n",
       "ishbonddonor(a::MIToS.PDB.PDBAtom, resname_a::ASCIIString) at /home/dzea/.julia/v0.4/MIToS/src/PDB/Interaction.jl:13\n",
       "\\end{verbatim}\n"
      ],
      "text/markdown": [
       "No documentation found.\n",
       "\n",
       "`MIToS.PDB.ishbonddonor` is a generic `Function`.\n",
       "\n",
       "```julia\n",
       "# 1 method for generic function \"ishbonddonor\":\n",
       "ishbonddonor(a::MIToS.PDB.PDBAtom, resname_a::ASCIIString) at /home/dzea/.julia/v0.4/MIToS/src/PDB/Interaction.jl:13\n",
       "```\n"
      ],
      "text/plain": [
       "No documentation found.\n",
       "\n",
       "`MIToS.PDB.ishbonddonor` is a generic `Function`.\n",
       "\n",
       "```julia\n",
       "# 1 method for generic function \"ishbonddonor\":\n",
       "ishbonddonor(a::MIToS.PDB.PDBAtom, resname_a::ASCIIString) at /home/dzea/.julia/v0.4/MIToS/src/PDB/Interaction.jl:13\n",
       "```\n"
      ]
     },
     "execution_count": 30,
     "metadata": {},
     "output_type": "execute_result"
    }
   ],
   "source": [
    "?MIToS.PDB.ishbonddonor"
   ]
  },
  {
   "cell_type": "code",
   "execution_count": 31,
   "metadata": {
    "collapsed": false
   },
   "outputs": [
    {
     "data": {
      "text/latex": [
       "No documentation found.\n",
       "\\texttt{MIToS.PDB.ishbondacceptor} is a generic \\texttt{Function}.\n",
       "\\begin{verbatim}\n",
       "# 1 method for generic function \"ishbondacceptor\":\n",
       "ishbondacceptor(a::MIToS.PDB.PDBAtom, resname_a::ASCIIString) at /home/dzea/.julia/v0.4/MIToS/src/PDB/Interaction.jl:15\n",
       "\\end{verbatim}\n"
      ],
      "text/markdown": [
       "No documentation found.\n",
       "\n",
       "`MIToS.PDB.ishbondacceptor` is a generic `Function`.\n",
       "\n",
       "```julia\n",
       "# 1 method for generic function \"ishbondacceptor\":\n",
       "ishbondacceptor(a::MIToS.PDB.PDBAtom, resname_a::ASCIIString) at /home/dzea/.julia/v0.4/MIToS/src/PDB/Interaction.jl:15\n",
       "```\n"
      ],
      "text/plain": [
       "No documentation found.\n",
       "\n",
       "`MIToS.PDB.ishbondacceptor` is a generic `Function`.\n",
       "\n",
       "```julia\n",
       "# 1 method for generic function \"ishbondacceptor\":\n",
       "ishbondacceptor(a::MIToS.PDB.PDBAtom, resname_a::ASCIIString) at /home/dzea/.julia/v0.4/MIToS/src/PDB/Interaction.jl:15\n",
       "```\n"
      ]
     },
     "execution_count": 31,
     "metadata": {},
     "output_type": "execute_result"
    }
   ],
   "source": [
    "?MIToS.PDB.ishbondacceptor"
   ]
  },
  {
   "cell_type": "code",
   "execution_count": 32,
   "metadata": {
    "collapsed": false
   },
   "outputs": [
    {
     "data": {
      "text/latex": [
       "This function only works if there are hydrogens in the structure. The criteria for a hydrogen bond are:\n",
       "\\begin{itemize}\n",
       "\\item d(Ai, Aj) < 3.9Å\n",
       "\\item d(Ah, Aacc) < 2.5Å\n",
       "\\item θ(Adon, Ah, Aacc) > 90°\n",
       "\\item θ(Adon, Aacc, Aacc-antecedent) > 90°\n",
       "\\item θ(Ah, Aacc, Aacc-antecedent) > 90°\n",
       "\\end{itemize}\n",
       "Where Ah is the donated hydrogen atom, Adon is the hydrogen bond donor atom, Aacc is the hydrogen bond acceptor atom and Aacc-antecednt is the atom antecedent to the hydrogen bond acceptor atom.\n"
      ],
      "text/markdown": [
       "This function only works if there are hydrogens in the structure. The criteria for a hydrogen bond are:\n",
       "\n",
       "  * d(Ai, Aj) < 3.9Å\n",
       "  * d(Ah, Aacc) < 2.5Å\n",
       "  * θ(Adon, Ah, Aacc) > 90°\n",
       "  * θ(Adon, Aacc, Aacc-antecedent) > 90°\n",
       "  * θ(Ah, Aacc, Aacc-antecedent) > 90°\n",
       "\n",
       "Where Ah is the donated hydrogen atom, Adon is the hydrogen bond donor atom, Aacc is the hydrogen bond acceptor atom and Aacc-antecednt is the atom antecedent to the hydrogen bond acceptor atom.\n"
      ],
      "text/plain": [
       "This function only works if there are hydrogens in the structure. The criteria for a hydrogen bond are:\n",
       "\n",
       "  * d(Ai, Aj) < 3.9Å\n",
       "  * d(Ah, Aacc) < 2.5Å\n",
       "  * θ(Adon, Ah, Aacc) > 90°\n",
       "  * θ(Adon, Aacc, Aacc-antecedent) > 90°\n",
       "  * θ(Ah, Aacc, Aacc-antecedent) > 90°\n",
       "\n",
       "Where Ah is the donated hydrogen atom, Adon is the hydrogen bond donor atom, Aacc is the hydrogen bond acceptor atom and Aacc-antecednt is the atom antecedent to the hydrogen bond acceptor atom.\n"
      ]
     },
     "execution_count": 32,
     "metadata": {},
     "output_type": "execute_result"
    }
   ],
   "source": [
    "?MIToS.PDB.hydrogenbond"
   ]
  },
  {
   "cell_type": "code",
   "execution_count": 33,
   "metadata": {
    "collapsed": false
   },
   "outputs": [
    {
     "data": {
      "text/latex": [
       "Test if two atoms or residues are in van der Waals contact using: \\texttt{distance(a,b) <= 0.5 + vanderwaalsradius[a] + vanderwaalsradius[b]}. It returns distance \\texttt{<= 0.5} if the atoms aren't in \\texttt{vanderwaalsradius}.\n"
      ],
      "text/markdown": [
       "Test if two atoms or residues are in van der Waals contact using: `distance(a,b) <= 0.5 + vanderwaalsradius[a] + vanderwaalsradius[b]`. It returns distance `<= 0.5` if the atoms aren't in `vanderwaalsradius`.\n"
      ],
      "text/plain": [
       "Test if two atoms or residues are in van der Waals contact using: `distance(a,b) <= 0.5 + vanderwaalsradius[a] + vanderwaalsradius[b]`. It returns distance `<= 0.5` if the atoms aren't in `vanderwaalsradius`.\n"
      ]
     },
     "execution_count": 33,
     "metadata": {},
     "output_type": "execute_result"
    }
   ],
   "source": [
    "?MIToS.PDB.vanderwaals"
   ]
  },
  {
   "cell_type": "code",
   "execution_count": 34,
   "metadata": {
    "collapsed": false
   },
   "outputs": [
    {
     "data": {
      "text/latex": [
       "Returns \\texttt{true} if the distance between the atoms is less than the sum of the \\texttt{vanderwaalsradius} of the atoms. If the atoms aren't on the list (i.e. \\texttt{OXT}), the \\texttt{vanderwaalsradius} of the element is used. If there is not data in the dict,  distance \\texttt{0.0} is used.\n"
      ],
      "text/markdown": [
       "Returns `true` if the distance between the atoms is less than the sum of the `vanderwaalsradius` of the atoms. If the atoms aren't on the list (i.e. `OXT`), the `vanderwaalsradius` of the element is used. If there is not data in the dict,  distance `0.0` is used.\n"
      ],
      "text/plain": [
       "Returns `true` if the distance between the atoms is less than the sum of the `vanderwaalsradius` of the atoms. If the atoms aren't on the list (i.e. `OXT`), the `vanderwaalsradius` of the element is used. If there is not data in the dict,  distance `0.0` is used.\n"
      ]
     },
     "execution_count": 34,
     "metadata": {},
     "output_type": "execute_result"
    }
   ],
   "source": [
    "?MIToS.PDB.vanderwaalsclash"
   ]
  },
  {
   "cell_type": "code",
   "execution_count": 35,
   "metadata": {
    "collapsed": false
   },
   "outputs": [
    {
     "data": {
      "text/latex": [
       "Returns \\texttt{true} if the distance between atoms is less than the sum of the \\texttt{covalentradius} of each atom.\n"
      ],
      "text/markdown": [
       "Returns `true` if the distance between atoms is less than the sum of the `covalentradius` of each atom.\n"
      ],
      "text/plain": [
       "Returns `true` if the distance between atoms is less than the sum of the `covalentradius` of each atom.\n"
      ]
     },
     "execution_count": 35,
     "metadata": {},
     "output_type": "execute_result"
    }
   ],
   "source": [
    "?MIToS.PDB.covalent"
   ]
  },
  {
   "cell_type": "code",
   "execution_count": 36,
   "metadata": {
    "collapsed": false
   },
   "outputs": [
    {
     "data": {
      "text/latex": [
       "Returns \\texttt{true} if two \\texttt{CYS}'s \\texttt{S} are at 2.08 Å or less\n"
      ],
      "text/markdown": [
       "Returns `true` if two `CYS`'s `S` are at 2.08 Å or less\n"
      ],
      "text/plain": [
       "Returns `true` if two `CYS`'s `S` are at 2.08 Å or less\n"
      ]
     },
     "execution_count": 36,
     "metadata": {},
     "output_type": "execute_result"
    }
   ],
   "source": [
    "?MIToS.PDB.disulphide"
   ]
  },
  {
   "cell_type": "code",
   "execution_count": 37,
   "metadata": {
    "collapsed": false
   },
   "outputs": [
    {
     "data": {
      "text/latex": [
       "Returns \\texttt{true} if an sulphur and an aromatic atoms are 5.3 Å or less\"\n"
      ],
      "text/markdown": [
       "Returns `true` if an sulphur and an aromatic atoms are 5.3 Å or less\"\n"
      ],
      "text/plain": [
       "Returns `true` if an sulphur and an aromatic atoms are 5.3 Å or less\"\n"
      ]
     },
     "execution_count": 37,
     "metadata": {},
     "output_type": "execute_result"
    }
   ],
   "source": [
    "?MIToS.PDB.aromaticsulphur"
   ]
  },
  {
   "cell_type": "code",
   "execution_count": 38,
   "metadata": {
    "collapsed": false
   },
   "outputs": [
    {
     "data": {
      "text/latex": [
       "There's a Π-Cation interaction if a cationic and an aromatic atoms are at 6.0 Å or less\n"
      ],
      "text/markdown": [
       "There's a Π-Cation interaction if a cationic and an aromatic atoms are at 6.0 Å or less\n"
      ],
      "text/plain": [
       "There's a Π-Cation interaction if a cationic and an aromatic atoms are at 6.0 Å or less\n"
      ]
     },
     "execution_count": 38,
     "metadata": {},
     "output_type": "execute_result"
    }
   ],
   "source": [
    "?MIToS.PDB.pication"
   ]
  },
  {
   "cell_type": "code",
   "execution_count": 39,
   "metadata": {
    "collapsed": false
   },
   "outputs": [
    {
     "data": {
      "text/latex": [
       "There's an aromatic interaction if centriods are at 6.0 Å or less.\n"
      ],
      "text/markdown": [
       "There's an aromatic interaction if centriods are at 6.0 Å or less.\n"
      ],
      "text/plain": [
       "There's an aromatic interaction if centriods are at 6.0 Å or less.\n"
      ]
     },
     "execution_count": 39,
     "metadata": {},
     "output_type": "execute_result"
    }
   ],
   "source": [
    "?MIToS.PDB.aromatic"
   ]
  },
  {
   "cell_type": "code",
   "execution_count": 40,
   "metadata": {
    "collapsed": false
   },
   "outputs": [
    {
     "data": {
      "text/latex": [
       "There's an ionic interaction if a cationic and an anionic atoms are at 6.0 Å or less.\n"
      ],
      "text/markdown": [
       "There's an ionic interaction if a cationic and an anionic atoms are at 6.0 Å or less.\n"
      ],
      "text/plain": [
       "There's an ionic interaction if a cationic and an anionic atoms are at 6.0 Å or less.\n"
      ]
     },
     "execution_count": 40,
     "metadata": {},
     "output_type": "execute_result"
    }
   ],
   "source": [
    "?MIToS.PDB.ionic"
   ]
  },
  {
   "cell_type": "code",
   "execution_count": 41,
   "metadata": {
    "collapsed": false
   },
   "outputs": [
    {
     "data": {
      "text/latex": [
       "There's an hydrophobic interaction if two hydrophobic atoms are at 5.0 Å or less.\n"
      ],
      "text/markdown": [
       "There's an hydrophobic interaction if two hydrophobic atoms are at 5.0 Å or less.\n"
      ],
      "text/plain": [
       "There's an hydrophobic interaction if two hydrophobic atoms are at 5.0 Å or less.\n"
      ]
     },
     "execution_count": 41,
     "metadata": {},
     "output_type": "execute_result"
    }
   ],
   "source": [
    "?MIToS.PDB.hydrophobic"
   ]
  },
  {
   "cell_type": "code",
   "execution_count": 42,
   "metadata": {
    "collapsed": false
   },
   "outputs": [
    {
     "data": {
      "text/latex": [
       "No documentation found.\n",
       "\\texttt{MIToS.PDB.stridehydrogenbond} is a generic \\texttt{Function}.\n",
       "\\begin{verbatim}\n",
       "# 1 method for generic function \"stridehydrogenbond\":\n",
       "stridehydrogenbond(filename::ASCIIString) at /home/dzea/.julia/v0.4/MIToS/src/PDB/Interaction.jl:274\n",
       "\\end{verbatim}\n"
      ],
      "text/markdown": [
       "No documentation found.\n",
       "\n",
       "`MIToS.PDB.stridehydrogenbond` is a generic `Function`.\n",
       "\n",
       "```julia\n",
       "# 1 method for generic function \"stridehydrogenbond\":\n",
       "stridehydrogenbond(filename::ASCIIString) at /home/dzea/.julia/v0.4/MIToS/src/PDB/Interaction.jl:274\n",
       "```\n"
      ],
      "text/plain": [
       "No documentation found.\n",
       "\n",
       "`MIToS.PDB.stridehydrogenbond` is a generic `Function`.\n",
       "\n",
       "```julia\n",
       "# 1 method for generic function \"stridehydrogenbond\":\n",
       "stridehydrogenbond(filename::ASCIIString) at /home/dzea/.julia/v0.4/MIToS/src/PDB/Interaction.jl:274\n",
       "```\n"
      ]
     },
     "execution_count": 42,
     "metadata": {},
     "output_type": "execute_result"
    }
   ],
   "source": [
    "?MIToS.PDB.stridehydrogenbond"
   ]
  },
  {
   "cell_type": "code",
   "execution_count": 43,
   "metadata": {
    "collapsed": false
   },
   "outputs": [
    {
     "data": {
      "text/latex": [
       "No documentation found.\n",
       "\\texttt{MIToS.PDB.chimerahydrogenbond} is a generic \\texttt{Function}.\n",
       "\\begin{verbatim}\n",
       "# 1 method for generic function \"chimerahydrogenbond\":\n",
       "chimerahydrogenbond(filename::ASCIIString) at /home/dzea/.julia/v0.4/MIToS/src/PDB/Interaction.jl:289\n",
       "\\end{verbatim}\n"
      ],
      "text/markdown": [
       "No documentation found.\n",
       "\n",
       "`MIToS.PDB.chimerahydrogenbond` is a generic `Function`.\n",
       "\n",
       "```julia\n",
       "# 1 method for generic function \"chimerahydrogenbond\":\n",
       "chimerahydrogenbond(filename::ASCIIString) at /home/dzea/.julia/v0.4/MIToS/src/PDB/Interaction.jl:289\n",
       "```\n"
      ],
      "text/plain": [
       "No documentation found.\n",
       "\n",
       "`MIToS.PDB.chimerahydrogenbond` is a generic `Function`.\n",
       "\n",
       "```julia\n",
       "# 1 method for generic function \"chimerahydrogenbond\":\n",
       "chimerahydrogenbond(filename::ASCIIString) at /home/dzea/.julia/v0.4/MIToS/src/PDB/Interaction.jl:289\n",
       "```\n"
      ]
     },
     "execution_count": 43,
     "metadata": {},
     "output_type": "execute_result"
    }
   ],
   "source": [
    "?MIToS.PDB.chimerahydrogenbond"
   ]
  },
  {
   "cell_type": "markdown",
   "metadata": {},
   "source": [
    "<a href=\"#\"><i class=\"fa fa-arrow-up\"></i></a>\n",
    "\n",
    "### Selections"
   ]
  },
  {
   "cell_type": "code",
   "execution_count": 44,
   "metadata": {
    "collapsed": false
   },
   "outputs": [
    {
     "data": {
      "text/latex": [
       "\\texttt{residuesdict(residue_list, model, chain, group, residue)}\n",
       "These return a dictionary (using PDB residue numbers as keys) with the selected subset of residues.\n"
      ],
      "text/markdown": [
       "`residuesdict(residue_list, model, chain, group, residue)`\n",
       "\n",
       "These return a dictionary (using PDB residue numbers as keys) with the selected subset of residues.\n"
      ],
      "text/plain": [
       "`residuesdict(residue_list, model, chain, group, residue)`\n",
       "\n",
       "These return a dictionary (using PDB residue numbers as keys) with the selected subset of residues.\n"
      ]
     },
     "execution_count": 44,
     "metadata": {},
     "output_type": "execute_result"
    }
   ],
   "source": [
    "?MIToS.PDB.residuesdict"
   ]
  },
  {
   "cell_type": "code",
   "execution_count": 45,
   "metadata": {
    "collapsed": false
   },
   "outputs": [
    {
     "data": {
      "text/latex": [
       "\\texttt{residues(residue_list, model, chain, group, residue)}\n",
       "These return a new vector with the selected subset of residues from a list of residues.\n"
      ],
      "text/markdown": [
       "`residues(residue_list, model, chain, group, residue)`\n",
       "\n",
       "These return a new vector with the selected subset of residues from a list of residues.\n"
      ],
      "text/plain": [
       "`residues(residue_list, model, chain, group, residue)`\n",
       "\n",
       "These return a new vector with the selected subset of residues from a list of residues.\n"
      ]
     },
     "execution_count": 45,
     "metadata": {},
     "output_type": "execute_result"
    }
   ],
   "source": [
    "?MIToS.PDB.residues"
   ]
  },
  {
   "cell_type": "code",
   "execution_count": 46,
   "metadata": {
    "collapsed": false
   },
   "outputs": [
    {
     "data": {
      "text/latex": [
       "\\texttt{atoms(residue_list, model, chain, group, residue, atom)}\n",
       "These return a vector of \\texttt{PDBAtom}s with the selected subset of atoms.\n"
      ],
      "text/markdown": [
       "`atoms(residue_list, model, chain, group, residue, atom)`\n",
       "\n",
       "These return a vector of `PDBAtom`s with the selected subset of atoms.\n"
      ],
      "text/plain": [
       "`atoms(residue_list, model, chain, group, residue, atom)`\n",
       "\n",
       "These return a vector of `PDBAtom`s with the selected subset of atoms.\n"
      ]
     },
     "execution_count": 46,
     "metadata": {},
     "output_type": "execute_result"
    }
   ],
   "source": [
    "?MIToS.PDB.atoms"
   ]
  },
  {
   "cell_type": "code",
   "execution_count": 47,
   "metadata": {
    "collapsed": false
   },
   "outputs": [
    {
     "data": {
      "text/latex": [
       "Returns a list with the index of the heavy atoms (all atoms except hydrogen) in the \\texttt{PDBResidue}\n"
      ],
      "text/markdown": [
       "Returns a list with the index of the heavy atoms (all atoms except hydrogen) in the `PDBResidue`\n"
      ],
      "text/plain": [
       "Returns a list with the index of the heavy atoms (all atoms except hydrogen) in the `PDBResidue`\n"
      ]
     },
     "execution_count": 47,
     "metadata": {},
     "output_type": "execute_result"
    }
   ],
   "source": [
    "?MIToS.PDB.findheavy"
   ]
  },
  {
   "cell_type": "code",
   "execution_count": 48,
   "metadata": {
    "collapsed": false
   },
   "outputs": [
    {
     "data": {
      "text/latex": [
       "\\texttt{findatoms(res::PDBResidue, atom::ASCIIString)}\n",
       "Returns a index vector of the atoms with the given \\texttt{atom} name.\n"
      ],
      "text/markdown": [
       "`findatoms(res::PDBResidue, atom::ASCIIString)`\n",
       "\n",
       "Returns a index vector of the atoms with the given `atom` name.\n"
      ],
      "text/plain": [
       "`findatoms(res::PDBResidue, atom::ASCIIString)`\n",
       "\n",
       "Returns a index vector of the atoms with the given `atom` name.\n"
      ]
     },
     "execution_count": 48,
     "metadata": {},
     "output_type": "execute_result"
    }
   ],
   "source": [
    "?MIToS.PDB.findatoms"
   ]
  },
  {
   "cell_type": "code",
   "execution_count": 49,
   "metadata": {
    "collapsed": false
   },
   "outputs": [
    {
     "data": {
      "text/latex": [
       "Returns a vector of indices for \\texttt{CB} (\\texttt{CA} for \\texttt{GLY})\n"
      ],
      "text/markdown": [
       "Returns a vector of indices for `CB` (`CA` for `GLY`)\n"
      ],
      "text/plain": [
       "Returns a vector of indices for `CB` (`CA` for `GLY`)\n"
      ]
     },
     "execution_count": 49,
     "metadata": {},
     "output_type": "execute_result"
    }
   ],
   "source": [
    "?MIToS.PDB.findCB"
   ]
  },
  {
   "cell_type": "code",
   "execution_count": 50,
   "metadata": {
    "collapsed": false
   },
   "outputs": [
    {
     "data": {
      "text/latex": [
       "Takes a \\texttt{Vector} of \\texttt{PDBAtom}s and returns a \\texttt{Vector} of the \\texttt{PDBAtom}s with best occupancy.\n"
      ],
      "text/markdown": [
       "Takes a `Vector` of `PDBAtom`s and returns a `Vector` of the `PDBAtom`s with best occupancy.\n"
      ],
      "text/plain": [
       "Takes a `Vector` of `PDBAtom`s and returns a `Vector` of the `PDBAtom`s with best occupancy.\n"
      ]
     },
     "execution_count": 50,
     "metadata": {},
     "output_type": "execute_result"
    }
   ],
   "source": [
    "?MIToS.PDB.bestoccupancy"
   ]
  },
  {
   "cell_type": "code",
   "execution_count": 51,
   "metadata": {
    "collapsed": false
   },
   "outputs": [
    {
     "data": {
      "text/latex": [
       "Takes a \\texttt{PDBResidue} and a \\texttt{Vector} of atom indices. Returns the index value of the \\texttt{Vector} with maximum occupancy.\n"
      ],
      "text/markdown": [
       "Takes a `PDBResidue` and a `Vector` of atom indices. Returns the index value of the `Vector` with maximum occupancy.\n"
      ],
      "text/plain": [
       "Takes a `PDBResidue` and a `Vector` of atom indices. Returns the index value of the `Vector` with maximum occupancy.\n"
      ]
     },
     "execution_count": 51,
     "metadata": {},
     "output_type": "execute_result"
    }
   ],
   "source": [
    "?MIToS.PDB.selectbestoccupancy"
   ]
  },
  {
   "cell_type": "markdown",
   "metadata": {},
   "source": [
    "<a href=\"#\"><i class=\"fa fa-arrow-up\"></i></a>\n",
    "\n",
    "### Structure comparison"
   ]
  },
  {
   "cell_type": "code",
   "execution_count": 52,
   "metadata": {
    "collapsed": false
   },
   "outputs": [
    {
     "data": {
      "text/latex": [
       "\\texttt{center!(A::Matrix{Float64})}\n",
       "Takes a set of points \\texttt{A} as an NxD matrix (N: number of points, D: dimension). Translates \\texttt{A} in place so that its centroid is at the origin of coordinates\n"
      ],
      "text/markdown": [
       "`center!(A::Matrix{Float64})`\n",
       "\n",
       "Takes a set of points `A` as an NxD matrix (N: number of points, D: dimension). Translates `A` in place so that its centroid is at the origin of coordinates\n"
      ],
      "text/plain": [
       "`center!(A::Matrix{Float64})`\n",
       "\n",
       "Takes a set of points `A` as an NxD matrix (N: number of points, D: dimension). Translates `A` in place so that its centroid is at the origin of coordinates\n"
      ]
     },
     "execution_count": 52,
     "metadata": {},
     "output_type": "execute_result"
    }
   ],
   "source": [
    "?MIToS.PDB.center!"
   ]
  },
  {
   "cell_type": "code",
   "execution_count": 53,
   "metadata": {
    "collapsed": false
   },
   "outputs": [
    {
     "data": {
      "text/latex": [
       "\\texttt{kabsch(A::Matrix{Float64}, B::Matrix{Float64})}\n",
       "This function takes two sets of points, \\texttt{A} (refrence) and \\texttt{B} as NxD matrices, where D is the dimension and N is the number of points. Assumes that the centroids of \\texttt{A} and \\texttt{B} are at the origin of coordinates. You can call \\texttt{center!} on each matrix before calling \\texttt{kabsch} to center the matrices in the \\texttt{(0.0, 0.0, 0.0)}. Rotates \\texttt{B} so that \\texttt{rmsd(A,B)} is minimized. Returns the rotation matrix. You should do \\texttt{B * RotationMatrix} to get the rotated B.\n"
      ],
      "text/markdown": [
       "`kabsch(A::Matrix{Float64}, B::Matrix{Float64})`\n",
       "\n",
       "This function takes two sets of points, `A` (refrence) and `B` as NxD matrices, where D is the dimension and N is the number of points. Assumes that the centroids of `A` and `B` are at the origin of coordinates. You can call `center!` on each matrix before calling `kabsch` to center the matrices in the `(0.0, 0.0, 0.0)`. Rotates `B` so that `rmsd(A,B)` is minimized. Returns the rotation matrix. You should do `B * RotationMatrix` to get the rotated B.\n"
      ],
      "text/plain": [
       "`kabsch(A::Matrix{Float64}, B::Matrix{Float64})`\n",
       "\n",
       "This function takes two sets of points, `A` (refrence) and `B` as NxD matrices, where D is the dimension and N is the number of points. Assumes that the centroids of `A` and `B` are at the origin of coordinates. You can call `center!` on each matrix before calling `kabsch` to center the matrices in the `(0.0, 0.0, 0.0)`. Rotates `B` so that `rmsd(A,B)` is minimized. Returns the rotation matrix. You should do `B * RotationMatrix` to get the rotated B.\n"
      ]
     },
     "execution_count": 53,
     "metadata": {},
     "output_type": "execute_result"
    }
   ],
   "source": [
    "?MIToS.PDB.kabsch"
   ]
  },
  {
   "cell_type": "code",
   "execution_count": 54,
   "metadata": {
    "collapsed": false
   },
   "outputs": [
    {
     "data": {
      "text/latex": [
       "\\texttt{rmsd(A::AbstractVector{PDBResidue}, B::AbstractVector{PDBResidue}; superimposed::Bool=false)}\n",
       "Returns the Cα RMSD value between two PDB structures: \\texttt{A} and \\texttt{B}. If the structures are already superimposed between them, use \\texttt{superimposed=true} to avoid a new superimposition (\\texttt{superimposed} is \\texttt{false} by default).\n",
       "\\texttt{rmsd(A::Matrix{Float64}, B::Matrix{Float64})}\n",
       "Return RMSD between two sets of points \\texttt{A} and \\texttt{B}, given as NxD matrices (N: number of points, D: dimension).\n"
      ],
      "text/markdown": [
       "`rmsd(A::AbstractVector{PDBResidue}, B::AbstractVector{PDBResidue}; superimposed::Bool=false)`\n",
       "\n",
       "Returns the Cα RMSD value between two PDB structures: `A` and `B`. If the structures are already superimposed between them, use `superimposed=true` to avoid a new superimposition (`superimposed` is `false` by default).\n",
       "\n",
       "`rmsd(A::Matrix{Float64}, B::Matrix{Float64})`\n",
       "\n",
       "Return RMSD between two sets of points `A` and `B`, given as NxD matrices (N: number of points, D: dimension).\n"
      ],
      "text/plain": [
       "`rmsd(A::AbstractVector{PDBResidue}, B::AbstractVector{PDBResidue}; superimposed::Bool=false)`\n",
       "\n",
       "Returns the Cα RMSD value between two PDB structures: `A` and `B`. If the structures are already superimposed between them, use `superimposed=true` to avoid a new superimposition (`superimposed` is `false` by default).\n",
       "\n",
       "`rmsd(A::Matrix{Float64}, B::Matrix{Float64})`\n",
       "\n",
       "Return RMSD between two sets of points `A` and `B`, given as NxD matrices (N: number of points, D: dimension).\n"
      ]
     },
     "execution_count": 54,
     "metadata": {},
     "output_type": "execute_result"
    }
   ],
   "source": [
    "?MIToS.PDB.rmsd"
   ]
  },
  {
   "cell_type": "code",
   "execution_count": 55,
   "metadata": {
    "collapsed": false
   },
   "outputs": [
    {
     "data": {
      "text/latex": [
       "Returns the Cα with best occupancy in the \\texttt{PDBResidue}.\n"
      ],
      "text/markdown": [
       "Returns the Cα with best occupancy in the `PDBResidue`.\n"
      ],
      "text/plain": [
       "Returns the Cα with best occupancy in the `PDBResidue`.\n"
      ]
     },
     "execution_count": 55,
     "metadata": {},
     "output_type": "execute_result"
    }
   ],
   "source": [
    "?MIToS.PDB.getCA"
   ]
  },
  {
   "cell_type": "code",
   "execution_count": 56,
   "metadata": {
    "collapsed": false
   },
   "outputs": [
    {
     "data": {
      "text/latex": [
       "Returns a matrix with the x, y and z coordinates of the Cα with best occupancy for each \\texttt{PDBResidue}.\n"
      ],
      "text/markdown": [
       "Returns a matrix with the x, y and z coordinates of the Cα with best occupancy for each `PDBResidue`.\n"
      ],
      "text/plain": [
       "Returns a matrix with the x, y and z coordinates of the Cα with best occupancy for each `PDBResidue`.\n"
      ]
     },
     "execution_count": 56,
     "metadata": {},
     "output_type": "execute_result"
    }
   ],
   "source": [
    "?MIToS.PDB.CAmatrix"
   ]
  },
  {
   "cell_type": "code",
   "execution_count": 57,
   "metadata": {
    "collapsed": false
   },
   "outputs": [
    {
     "data": {
      "text/latex": [
       "Returns a matrix with the x, y, z coordinates of each atom in each \\texttt{PDBResidue}\n"
      ],
      "text/markdown": [
       "Returns a matrix with the x, y, z coordinates of each atom in each `PDBResidue`\n"
      ],
      "text/plain": [
       "Returns a matrix with the x, y, z coordinates of each atom in each `PDBResidue`\n"
      ]
     },
     "execution_count": 57,
     "metadata": {},
     "output_type": "execute_result"
    }
   ],
   "source": [
    "?MIToS.PDB.coordinatesmatrix"
   ]
  },
  {
   "cell_type": "code",
   "execution_count": 58,
   "metadata": {
    "collapsed": false
   },
   "outputs": [
    {
     "data": {
      "text/latex": [
       "Returns a \\texttt{Matrix{Float64}} with the centered coordinates of all the atoms in \\texttt{residues}. An optional positional argument \\texttt{CA} (default: \\texttt{true}) defines if only Cα carbons should be used to center the matrix.\n"
      ],
      "text/markdown": [
       "Returns a `Matrix{Float64}` with the centered coordinates of all the atoms in `residues`. An optional positional argument `CA` (default: `true`) defines if only Cα carbons should be used to center the matrix.\n"
      ],
      "text/plain": [
       "Returns a `Matrix{Float64}` with the centered coordinates of all the atoms in `residues`. An optional positional argument `CA` (default: `true`) defines if only Cα carbons should be used to center the matrix.\n"
      ]
     },
     "execution_count": 58,
     "metadata": {},
     "output_type": "execute_result"
    }
   ],
   "source": [
    "?MIToS.PDB.centeredcoordinates"
   ]
  },
  {
   "cell_type": "code",
   "execution_count": 59,
   "metadata": {
    "collapsed": false
   },
   "outputs": [
    {
     "data": {
      "text/latex": [
       "Returns a new \\texttt{Vector{PDBResidue}} with the \\texttt{PDBResidue}s having centered coordinates. An optional positional argument \\texttt{CA} (default: \\texttt{true}) defines if only Cα carbons should be used to center the matrix.\n"
      ],
      "text/markdown": [
       "Returns a new `Vector{PDBResidue}` with the `PDBResidue`s having centered coordinates. An optional positional argument `CA` (default: `true`) defines if only Cα carbons should be used to center the matrix.\n"
      ],
      "text/plain": [
       "Returns a new `Vector{PDBResidue}` with the `PDBResidue`s having centered coordinates. An optional positional argument `CA` (default: `true`) defines if only Cα carbons should be used to center the matrix.\n"
      ]
     },
     "execution_count": 59,
     "metadata": {},
     "output_type": "execute_result"
    }
   ],
   "source": [
    "?MIToS.PDB.centeredresidues"
   ]
  },
  {
   "cell_type": "code",
   "execution_count": 60,
   "metadata": {
    "collapsed": false
   },
   "outputs": [
    {
     "data": {
      "text/latex": [
       "\\texttt{change_coordinates(residues::AbstractVector{PDBResidue}, coordinates::Matrix{Float64})}\n",
       "Returns a new \\texttt{Vector{PDBResidues}} with (x,y,z) from a coordinates \\texttt{Matrix{Float64}}\n",
       "\\texttt{change_coordinates(residue::PDBResidue, coordinates::Matrix{Float64}, offset::Int=1)}\n",
       "Returns a new \\texttt{PDBResidues} with (x,y,z) from a coordinates \\texttt{Matrix{Float64}} You can give an \\texttt{offset} indicating in wich matrix row starts the (x,y,z) coordinates of the residue.\n",
       "\\texttt{change_coordinates(atom::PDBAtom, coordinates::Coordinates)}\n",
       "Returns a new \\texttt{PDBAtom} but with a new \\texttt{coordinates}\n"
      ],
      "text/markdown": [
       "`change_coordinates(residues::AbstractVector{PDBResidue}, coordinates::Matrix{Float64})`\n",
       "\n",
       "Returns a new `Vector{PDBResidues}` with (x,y,z) from a coordinates `Matrix{Float64}`\n",
       "\n",
       "`change_coordinates(residue::PDBResidue, coordinates::Matrix{Float64}, offset::Int=1)`\n",
       "\n",
       "Returns a new `PDBResidues` with (x,y,z) from a coordinates `Matrix{Float64}` You can give an `offset` indicating in wich matrix row starts the (x,y,z) coordinates of the residue.\n",
       "\n",
       "`change_coordinates(atom::PDBAtom, coordinates::Coordinates)`\n",
       "\n",
       "Returns a new `PDBAtom` but with a new `coordinates`\n"
      ],
      "text/plain": [
       "`change_coordinates(residues::AbstractVector{PDBResidue}, coordinates::Matrix{Float64})`\n",
       "\n",
       "Returns a new `Vector{PDBResidues}` with (x,y,z) from a coordinates `Matrix{Float64}`\n",
       "\n",
       "`change_coordinates(residue::PDBResidue, coordinates::Matrix{Float64}, offset::Int=1)`\n",
       "\n",
       "Returns a new `PDBResidues` with (x,y,z) from a coordinates `Matrix{Float64}` You can give an `offset` indicating in wich matrix row starts the (x,y,z) coordinates of the residue.\n",
       "\n",
       "`change_coordinates(atom::PDBAtom, coordinates::Coordinates)`\n",
       "\n",
       "Returns a new `PDBAtom` but with a new `coordinates`\n"
      ]
     },
     "execution_count": 60,
     "metadata": {},
     "output_type": "execute_result"
    }
   ],
   "source": [
    "?MIToS.PDB.change_coordinates"
   ]
  },
  {
   "cell_type": "code",
   "execution_count": 61,
   "metadata": {
    "collapsed": false
   },
   "outputs": [
    {
     "data": {
      "text/latex": [
       "This function takes \\texttt{A::Vector{PDBResidue}} (reference) and \\texttt{B::Vector{PDBResidue}}. Translates \\texttt{A} and \\texttt{B} to the origin of coordinates, and rotates \\texttt{B} so that \\texttt{rmsd(A,B)} is minimized with the Kabsch algorithm (using only their α carbons). Returns the rotated and translated versions of \\texttt{A} and \\texttt{B}, and the RMSD value.\n"
      ],
      "text/markdown": [
       "This function takes `A::Vector{PDBResidue}` (reference) and `B::Vector{PDBResidue}`. Translates `A` and `B` to the origin of coordinates, and rotates `B` so that `rmsd(A,B)` is minimized with the Kabsch algorithm (using only their α carbons). Returns the rotated and translated versions of `A` and `B`, and the RMSD value.\n"
      ],
      "text/plain": [
       "This function takes `A::Vector{PDBResidue}` (reference) and `B::Vector{PDBResidue}`. Translates `A` and `B` to the origin of coordinates, and rotates `B` so that `rmsd(A,B)` is minimized with the Kabsch algorithm (using only their α carbons). Returns the rotated and translated versions of `A` and `B`, and the RMSD value.\n"
      ]
     },
     "execution_count": 61,
     "metadata": {},
     "output_type": "execute_result"
    }
   ],
   "source": [
    "?MIToS.PDB.superimpose"
   ]
  },
  {
   "cell_type": "code",
   "execution_count": 62,
   "metadata": {
    "collapsed": false
   },
   "outputs": [
    {
     "data": {
      "text/latex": [
       "Calculates the average/mean position of each atom in a set of structure. The function takes a vector (\\texttt{AbstractVector}) of vectors (\\texttt{Vector{PDBResidue}}) or matrices (\\texttt{Matrix{Float64}}) as first argument. As second (optional) argument this function can take an \\texttt{AbstractVector{Float64}} of matrix/structure weights to return a weighted mean. When a Vector\\{PDBResidue\\} is used, if the keyword argument \\texttt{calpha} is \\texttt{false} the RMSF is calculated for all the atoms. By default only alpha carbons are used (default: \\texttt{calpha=true}).\n"
      ],
      "text/markdown": [
       "Calculates the average/mean position of each atom in a set of structure. The function takes a vector (`AbstractVector`) of vectors (`Vector{PDBResidue}`) or matrices (`Matrix{Float64}`) as first argument. As second (optional) argument this function can take an `AbstractVector{Float64}` of matrix/structure weights to return a weighted mean. When a Vector{PDBResidue} is used, if the keyword argument `calpha` is `false` the RMSF is calculated for all the atoms. By default only alpha carbons are used (default: `calpha=true`).\n"
      ],
      "text/plain": [
       "Calculates the average/mean position of each atom in a set of structure. The function takes a vector (`AbstractVector`) of vectors (`Vector{PDBResidue}`) or matrices (`Matrix{Float64}`) as first argument. As second (optional) argument this function can take an `AbstractVector{Float64}` of matrix/structure weights to return a weighted mean. When a Vector{PDBResidue} is used, if the keyword argument `calpha` is `false` the RMSF is calculated for all the atoms. By default only alpha carbons are used (default: `calpha=true`).\n"
      ]
     },
     "execution_count": 62,
     "metadata": {},
     "output_type": "execute_result"
    }
   ],
   "source": [
    "?MIToS.PDB.mean_coordinates"
   ]
  },
  {
   "cell_type": "code",
   "execution_count": 63,
   "metadata": {
    "collapsed": false
   },
   "outputs": [
    {
     "data": {
      "text/latex": [
       "Calculates the RMSF (Root Mean-Square-Fluctuation) between an atom and its average position in a set of structures. The function takes a vector (\\texttt{AbstractVector}) of vectors (\\texttt{Vector{PDBResidue}}) or matrices (\\texttt{Matrix{Float64}}) as first argument. As second (optional) argument this function can take an \\texttt{AbstractVector{Float64}} of matrix/structure weights to return the root weighted mean-square-fluctuation around the weighted mean structure. When a Vector\\{PDBResidue\\} is used, if the keyword argument \\texttt{calpha} is \\texttt{false} the RMSF is calculated for all the atoms. By default only alpha carbons are used (default: \\texttt{calpha=true}).\n"
      ],
      "text/markdown": [
       "Calculates the RMSF (Root Mean-Square-Fluctuation) between an atom and its average position in a set of structures. The function takes a vector (`AbstractVector`) of vectors (`Vector{PDBResidue}`) or matrices (`Matrix{Float64}`) as first argument. As second (optional) argument this function can take an `AbstractVector{Float64}` of matrix/structure weights to return the root weighted mean-square-fluctuation around the weighted mean structure. When a Vector{PDBResidue} is used, if the keyword argument `calpha` is `false` the RMSF is calculated for all the atoms. By default only alpha carbons are used (default: `calpha=true`).\n"
      ],
      "text/plain": [
       "Calculates the RMSF (Root Mean-Square-Fluctuation) between an atom and its average position in a set of structures. The function takes a vector (`AbstractVector`) of vectors (`Vector{PDBResidue}`) or matrices (`Matrix{Float64}`) as first argument. As second (optional) argument this function can take an `AbstractVector{Float64}` of matrix/structure weights to return the root weighted mean-square-fluctuation around the weighted mean structure. When a Vector{PDBResidue} is used, if the keyword argument `calpha` is `false` the RMSF is calculated for all the atoms. By default only alpha carbons are used (default: `calpha=true`).\n"
      ]
     },
     "execution_count": 63,
     "metadata": {},
     "output_type": "execute_result"
    }
   ],
   "source": [
    "?MIToS.PDB.rmsf"
   ]
  },
  {
   "cell_type": "markdown",
   "metadata": {},
   "source": [
    "<a href=\"#\"><i class=\"fa fa-arrow-up\"></i></a>\n",
    "\n",
    "### Imported from MIToS.Utils"
   ]
  },
  {
   "cell_type": "code",
   "execution_count": 64,
   "metadata": {
    "collapsed": false
   },
   "outputs": [
    {
     "data": {
      "text/latex": [
       "Returns a vector of Nullables with the captures of the \\texttt{field}s. Null if any test fails or the object hasn't the \\texttt{field}.\n",
       "\\texttt{collectcaptures(vector::AbstractVector{SIFTSResidue}, db_capture, field, db_test, tests)}\n",
       "Calls the \\texttt{capture} function and returns a vector of \\texttt{Nullable}s with the captured \\texttt{field}s. The element is null if any test fails or the object hasn't the \\texttt{field}.\n"
      ],
      "text/markdown": [
       "Returns a vector of Nullables with the captures of the `field`s. Null if any test fails or the object hasn't the `field`.\n",
       "\n",
       "`collectcaptures(vector::AbstractVector{SIFTSResidue}, db_capture, field, db_test, tests)`\n",
       "\n",
       "Calls the `capture` function and returns a vector of `Nullable`s with the captured `field`s. The element is null if any test fails or the object hasn't the `field`.\n"
      ],
      "text/plain": [
       "Returns a vector of Nullables with the captures of the `field`s. Null if any test fails or the object hasn't the `field`.\n",
       "\n",
       "`collectcaptures(vector::AbstractVector{SIFTSResidue}, db_capture, field, db_test, tests)`\n",
       "\n",
       "Calls the `capture` function and returns a vector of `Nullable`s with the captured `field`s. The element is null if any test fails or the object hasn't the `field`.\n"
      ]
     },
     "execution_count": 64,
     "metadata": {},
     "output_type": "execute_result"
    }
   ],
   "source": [
    "?MIToS.PDB.collectcaptures"
   ]
  },
  {
   "cell_type": "code",
   "execution_count": 65,
   "metadata": {
    "collapsed": false
   },
   "outputs": [
    {
     "data": {
      "text/latex": [
       "Returns \\texttt{true} if all the tests are satisfied\n",
       "\\texttt{isobject{T <: DataBase}(res::SIFTSResidue, ::Type{T}, tests...)}\n",
       "Returns \\texttt{true} if the tests are successfully passed for that \\texttt{DataBase} sub-type on that \\texttt{SIFTSResidue}.\n"
      ],
      "text/markdown": [
       "Returns `true` if all the tests are satisfied\n",
       "\n",
       "`isobject{T <: DataBase}(res::SIFTSResidue, ::Type{T}, tests...)`\n",
       "\n",
       "Returns `true` if the tests are successfully passed for that `DataBase` sub-type on that `SIFTSResidue`.\n"
      ],
      "text/plain": [
       "Returns `true` if all the tests are satisfied\n",
       "\n",
       "`isobject{T <: DataBase}(res::SIFTSResidue, ::Type{T}, tests...)`\n",
       "\n",
       "Returns `true` if the tests are successfully passed for that `DataBase` sub-type on that `SIFTSResidue`.\n"
      ]
     },
     "execution_count": 65,
     "metadata": {},
     "output_type": "execute_result"
    }
   ],
   "source": [
    "?MIToS.PDB.isobject"
   ]
  },
  {
   "cell_type": "code",
   "execution_count": 66,
   "metadata": {
    "collapsed": false
   },
   "outputs": [
    {
     "data": {
      "text/latex": [
       "Returns a vector of the indexes for which \\texttt{isobject} is true.\n"
      ],
      "text/markdown": [
       "Returns a vector of the indexes for which `isobject` is true.\n"
      ],
      "text/plain": [
       "Returns a vector of the indexes for which `isobject` is true.\n"
      ]
     },
     "execution_count": 66,
     "metadata": {},
     "output_type": "execute_result"
    }
   ],
   "source": [
    "?MIToS.PDB.findobjects"
   ]
  },
  {
   "cell_type": "code",
   "execution_count": 67,
   "metadata": {
    "collapsed": false
   },
   "outputs": [
    {
     "data": {
      "text/latex": [
       "Returns a vector with the objects for which \\texttt{isobject} is true given the Tests.\n"
      ],
      "text/markdown": [
       "Returns a vector with the objects for which `isobject` is true given the Tests.\n"
      ],
      "text/plain": [
       "Returns a vector with the objects for which `isobject` is true given the Tests.\n"
      ]
     },
     "execution_count": 67,
     "metadata": {},
     "output_type": "execute_result"
    }
   ],
   "source": [
    "?MIToS.PDB.collectobjects"
   ]
  },
  {
   "cell_type": "markdown",
   "metadata": {},
   "source": [
    "<a href=\"#\"><i class=\"fa fa-arrow-up\"></i></a>\n",
    "\n",
    "### Imported from Base"
   ]
  },
  {
   "cell_type": "code",
   "execution_count": 68,
   "metadata": {
    "collapsed": false
   },
   "outputs": [
    {
     "data": {
      "text/latex": [
       "\\begin{verbatim}\n",
       "parse(str, start; greedy=true, raise=true)\n",
       "\\end{verbatim}\n",
       "Parse the expression string and return an expression (which could later be passed to eval for execution). \\texttt{start} is the index of the first character to start parsing. If \\texttt{greedy} is \\texttt{true} (default), \\texttt{parse} will try to consume as much input as it can; otherwise, it will stop as soon as it has parsed a valid expression. Incomplete but otherwise syntactically valid expressions will return \\texttt{Expr(:incomplete, \"(error message)\")}. If \\texttt{raise} is \\texttt{true} (default), syntax errors other than incomplete expressions will raise an error. If \\texttt{raise} is \\texttt{false}, \\texttt{parse} will return an expression that will raise an error upon evaluation.\n",
       "\\begin{verbatim}\n",
       "parse(str; raise=true)\n",
       "\\end{verbatim}\n",
       "Parse the expression string greedily, returning a single expression. An error is thrown if there are additional characters after the first expression. If \\texttt{raise} is \\texttt{true} (default), syntax errors will raise an error; otherwise, \\texttt{parse} will return an expression that will raise an error upon evaluation.\n",
       "\\begin{verbatim}\n",
       "parse(type, str, [base])\n",
       "\\end{verbatim}\n",
       "Parse a string as a number. If the type is an integer type, then a base can be specified (the default is 10). If the type is a floating point type, the string is parsed as a decimal floating point number. If the string does not contain a valid number, an error is raised.\n",
       "\\begin{verbatim}\n",
       "parse(Colorant, desc)\n",
       "\\end{verbatim}\n",
       "Parse a color description.\n",
       "This parses subset of HTML/CSS color specifications. In particular, everything is supported but: \"currentColor\".\n",
       "It does support named colors (though it uses X11 named colors, which are slightly different than W3C named colors in some cases), \"rgb()\", \"hsl()\", \"\\#RGB\", and \"\\#RRGGBB' syntax.\n",
       "Args: - \\texttt{Colorant}: literal \"Colorant\" will parse according to the \\texttt{desc} string (usually returning an \\texttt{RGB}); any more specific choice will return a color of the specified type. - \\texttt{desc}: A color name or description.\n",
       "Returns:   An \\texttt{RGB{U8}} color, unless:     - \"hsl(h,s,l)\" was used, in which case an \\texttt{HSL} color;     - \"rgba(r,g,b,a)\" was used, in which case an \\texttt{RGBA} color;     - \"hsla(h,s,l,a)\" was used, in which case an \\texttt{HSLA} color;     - a specific \\texttt{Colorant} type was specified in the first argument\n",
       "\\texttt{parse(io::Union{IO, AbstractString}, format[, output; generatemapping::Bool=false, useidcoordinates::Bool=false, deletefullgaps::Bool=true ])}\n",
       "The keyword argument \\texttt{generatemapping} (\\texttt{false} by default) indicates if the mapping of the sequences (\"SeqMap\") and columns (\"ColMap\") and the number of columns in the original MSA (\"NCol\") should be generated and saved in the annotations. If \\texttt{useidcoordinates} is \\texttt{true} (default: \\texttt{false}) the sequence IDs of the form \"ID/start-end\" are parsed and used for determining the start and end positions when the mappings are generated. \\texttt{deletefullgaps} (\\texttt{true} by default) indicates if columns 100\\% gaps (generally inserts from a HMM) must be removed from the MSA. By default, the ambiguous or not standard residues are replaced by gaps (i.e. \\texttt{J} for leucine or isoleucine). But, if the keyword argument \\texttt{checkalphabet} is \\texttt{true} (\\texttt{false} by default), the sequences with residues that do not belong to the defined alphabet are deleted.\n",
       "\\begin{verbatim}\n",
       "parse(io, ::Type{PDBFile}; chain=\"all\", model=\"all\", group=\"all\", atomname=\"all\", onlyheavy=false, occupancyfilter=false)\n",
       "\\end{verbatim}\n",
       "Reads a text file of a PDB entry. Returns a list of \\texttt{PDBResidue} (view \\texttt{MIToS.PDB.PDBResidues}). Setting \\texttt{chain}, \\texttt{model}, \\texttt{group}, \\texttt{atomname} and \\texttt{onlyheavy} values can be used to select of a subset of all residues. Group can be \\texttt{ATOM} or \\texttt{HETATM}. If not set, all residues are returned. If the keyword argument \\texttt{occupancyfilter} (default: \\texttt{false}) is \\texttt{true}, only the atoms with the best occupancy are returned.\n",
       "\\begin{verbatim}\n",
       "parse(pdbml, ::Type{PDBML}; chain=\"all\", model=\"all\", group=\"all\", atomname=\"all\", onlyheavy=false, label=true, occupancyfilter=false)\n",
       "\\end{verbatim}\n",
       "Reads a \\texttt{LightXML.XMLDocument} representing a pdb file. Returns a list of \\texttt{PDBResidue}s (view \\texttt{MIToS.PDB.PDBResidues}). Setting \\texttt{chain}, \\texttt{model}, \\texttt{group}, \\texttt{atomname} and \\texttt{onlyheavy} values can be used to select of a subset of all residues. If not set, all residues are returned. If the keyword argument \\texttt{label} (default: \\texttt{true}) is \\texttt{false}, the \\textbf{auth\\_} attributes will be use instead of the \\textbf{label\\_} attributes for \\texttt{chain}, \\texttt{atom} and residue \\texttt{name} fields. The \\textbf{auth\\_} attributes are alternatives provided by an author in order to match the identification/values used in the publication that describes the structure. If the keyword argument \\texttt{occupancyfilter} (default: \\texttt{false}) is \\texttt{true}, only the atoms with the best occupancy are returned.\n",
       "\\texttt{parse(document::LightXML.XMLDocument, ::Type{SIFTSXML}; chain::ASCIIString=\"all\", missings::Bool = true)}\n",
       "Returns a \\texttt{Vector{SIFTSResidue}} parsed from a \\texttt{SIFTSXML} file. By default, parses all the \\texttt{chain}s and includes \\texttt{missings} residues.\n"
      ],
      "text/markdown": [
       "```\n",
       "parse(str, start; greedy=true, raise=true)\n",
       "```\n",
       "\n",
       "Parse the expression string and return an expression (which could later be passed to eval for execution). `start` is the index of the first character to start parsing. If `greedy` is `true` (default), `parse` will try to consume as much input as it can; otherwise, it will stop as soon as it has parsed a valid expression. Incomplete but otherwise syntactically valid expressions will return `Expr(:incomplete, \"(error message)\")`. If `raise` is `true` (default), syntax errors other than incomplete expressions will raise an error. If `raise` is `false`, `parse` will return an expression that will raise an error upon evaluation.\n",
       "\n",
       "```\n",
       "parse(str; raise=true)\n",
       "```\n",
       "\n",
       "Parse the expression string greedily, returning a single expression. An error is thrown if there are additional characters after the first expression. If `raise` is `true` (default), syntax errors will raise an error; otherwise, `parse` will return an expression that will raise an error upon evaluation.\n",
       "\n",
       "```\n",
       "parse(type, str, [base])\n",
       "```\n",
       "\n",
       "Parse a string as a number. If the type is an integer type, then a base can be specified (the default is 10). If the type is a floating point type, the string is parsed as a decimal floating point number. If the string does not contain a valid number, an error is raised.\n",
       "\n",
       "```\n",
       "parse(Colorant, desc)\n",
       "```\n",
       "\n",
       "Parse a color description.\n",
       "\n",
       "This parses subset of HTML/CSS color specifications. In particular, everything is supported but: \"currentColor\".\n",
       "\n",
       "It does support named colors (though it uses X11 named colors, which are slightly different than W3C named colors in some cases), \"rgb()\", \"hsl()\", \"#RGB\", and \"#RRGGBB' syntax.\n",
       "\n",
       "Args: - `Colorant`: literal \"Colorant\" will parse according to the `desc` string (usually returning an `RGB`); any more specific choice will return a color of the specified type. - `desc`: A color name or description.\n",
       "\n",
       "Returns:   An `RGB{U8}` color, unless:     - \"hsl(h,s,l)\" was used, in which case an `HSL` color;     - \"rgba(r,g,b,a)\" was used, in which case an `RGBA` color;     - \"hsla(h,s,l,a)\" was used, in which case an `HSLA` color;     - a specific `Colorant` type was specified in the first argument\n",
       "\n",
       "`parse(io::Union{IO, AbstractString}, format[, output; generatemapping::Bool=false, useidcoordinates::Bool=false, deletefullgaps::Bool=true ])`\n",
       "\n",
       "The keyword argument `generatemapping` (`false` by default) indicates if the mapping of the sequences (\"SeqMap\") and columns (\"ColMap\") and the number of columns in the original MSA (\"NCol\") should be generated and saved in the annotations. If `useidcoordinates` is `true` (default: `false`) the sequence IDs of the form \"ID/start-end\" are parsed and used for determining the start and end positions when the mappings are generated. `deletefullgaps` (`true` by default) indicates if columns 100% gaps (generally inserts from a HMM) must be removed from the MSA. By default, the ambiguous or not standard residues are replaced by gaps (i.e. `J` for leucine or isoleucine). But, if the keyword argument `checkalphabet` is `true` (`false` by default), the sequences with residues that do not belong to the defined alphabet are deleted.\n",
       "\n",
       "```julia\n",
       "parse(io, ::Type{PDBFile}; chain=\"all\", model=\"all\", group=\"all\", atomname=\"all\", onlyheavy=false, occupancyfilter=false)\n",
       "```\n",
       "\n",
       "Reads a text file of a PDB entry. Returns a list of `PDBResidue` (view `MIToS.PDB.PDBResidues`). Setting `chain`, `model`, `group`, `atomname` and `onlyheavy` values can be used to select of a subset of all residues. Group can be `ATOM` or `HETATM`. If not set, all residues are returned. If the keyword argument `occupancyfilter` (default: `false`) is `true`, only the atoms with the best occupancy are returned.\n",
       "\n",
       "```julia\n",
       "parse(pdbml, ::Type{PDBML}; chain=\"all\", model=\"all\", group=\"all\", atomname=\"all\", onlyheavy=false, label=true, occupancyfilter=false)\n",
       "```\n",
       "\n",
       "Reads a `LightXML.XMLDocument` representing a pdb file. Returns a list of `PDBResidue`s (view `MIToS.PDB.PDBResidues`). Setting `chain`, `model`, `group`, `atomname` and `onlyheavy` values can be used to select of a subset of all residues. If not set, all residues are returned. If the keyword argument `label` (default: `true`) is `false`, the **auth_** attributes will be use instead of the **label_** attributes for `chain`, `atom` and residue `name` fields. The **auth_** attributes are alternatives provided by an author in order to match the identification/values used in the publication that describes the structure. If the keyword argument `occupancyfilter` (default: `false`) is `true`, only the atoms with the best occupancy are returned.\n",
       "\n",
       "`parse(document::LightXML.XMLDocument, ::Type{SIFTSXML}; chain::ASCIIString=\"all\", missings::Bool = true)`\n",
       "\n",
       "Returns a `Vector{SIFTSResidue}` parsed from a `SIFTSXML` file. By default, parses all the `chain`s and includes `missings` residues.\n"
      ],
      "text/plain": [
       "```\n",
       "parse(str, start; greedy=true, raise=true)\n",
       "```\n",
       "\n",
       "Parse the expression string and return an expression (which could later be passed to eval for execution). `start` is the index of the first character to start parsing. If `greedy` is `true` (default), `parse` will try to consume as much input as it can; otherwise, it will stop as soon as it has parsed a valid expression. Incomplete but otherwise syntactically valid expressions will return `Expr(:incomplete, \"(error message)\")`. If `raise` is `true` (default), syntax errors other than incomplete expressions will raise an error. If `raise` is `false`, `parse` will return an expression that will raise an error upon evaluation.\n",
       "\n",
       "```\n",
       "parse(str; raise=true)\n",
       "```\n",
       "\n",
       "Parse the expression string greedily, returning a single expression. An error is thrown if there are additional characters after the first expression. If `raise` is `true` (default), syntax errors will raise an error; otherwise, `parse` will return an expression that will raise an error upon evaluation.\n",
       "\n",
       "```\n",
       "parse(type, str, [base])\n",
       "```\n",
       "\n",
       "Parse a string as a number. If the type is an integer type, then a base can be specified (the default is 10). If the type is a floating point type, the string is parsed as a decimal floating point number. If the string does not contain a valid number, an error is raised.\n",
       "\n",
       "```\n",
       "parse(Colorant, desc)\n",
       "```\n",
       "\n",
       "Parse a color description.\n",
       "\n",
       "This parses subset of HTML/CSS color specifications. In particular, everything is supported but: \"currentColor\".\n",
       "\n",
       "It does support named colors (though it uses X11 named colors, which are slightly different than W3C named colors in some cases), \"rgb()\", \"hsl()\", \"#RGB\", and \"#RRGGBB' syntax.\n",
       "\n",
       "Args: - `Colorant`: literal \"Colorant\" will parse according to the `desc` string (usually returning an `RGB`); any more specific choice will return a color of the specified type. - `desc`: A color name or description.\n",
       "\n",
       "Returns:   An `RGB{U8}` color, unless:     - \"hsl(h,s,l)\" was used, in which case an `HSL` color;     - \"rgba(r,g,b,a)\" was used, in which case an `RGBA` color;     - \"hsla(h,s,l,a)\" was used, in which case an `HSLA` color;     - a specific `Colorant` type was specified in the first argument\n",
       "\n",
       "`parse(io::Union{IO, AbstractString}, format[, output; generatemapping::Bool=false, useidcoordinates::Bool=false, deletefullgaps::Bool=true ])`\n",
       "\n",
       "The keyword argument `generatemapping` (`false` by default) indicates if the mapping of the sequences (\"SeqMap\") and columns (\"ColMap\") and the number of columns in the original MSA (\"NCol\") should be generated and saved in the annotations. If `useidcoordinates` is `true` (default: `false`) the sequence IDs of the form \"ID/start-end\" are parsed and used for determining the start and end positions when the mappings are generated. `deletefullgaps` (`true` by default) indicates if columns 100% gaps (generally inserts from a HMM) must be removed from the MSA. By default, the ambiguous or not standard residues are replaced by gaps (i.e. `J` for leucine or isoleucine). But, if the keyword argument `checkalphabet` is `true` (`false` by default), the sequences with residues that do not belong to the defined alphabet are deleted.\n",
       "\n",
       "```julia\n",
       "parse(io, ::Type{PDBFile}; chain=\"all\", model=\"all\", group=\"all\", atomname=\"all\", onlyheavy=false, occupancyfilter=false)\n",
       "```\n",
       "\n",
       "Reads a text file of a PDB entry. Returns a list of `PDBResidue` (view `MIToS.PDB.PDBResidues`). Setting `chain`, `model`, `group`, `atomname` and `onlyheavy` values can be used to select of a subset of all residues. Group can be `ATOM` or `HETATM`. If not set, all residues are returned. If the keyword argument `occupancyfilter` (default: `false`) is `true`, only the atoms with the best occupancy are returned.\n",
       "\n",
       "```julia\n",
       "parse(pdbml, ::Type{PDBML}; chain=\"all\", model=\"all\", group=\"all\", atomname=\"all\", onlyheavy=false, label=true, occupancyfilter=false)\n",
       "```\n",
       "\n",
       "Reads a `LightXML.XMLDocument` representing a pdb file. Returns a list of `PDBResidue`s (view `MIToS.PDB.PDBResidues`). Setting `chain`, `model`, `group`, `atomname` and `onlyheavy` values can be used to select of a subset of all residues. If not set, all residues are returned. If the keyword argument `label` (default: `true`) is `false`, the **auth_** attributes will be use instead of the **label_** attributes for `chain`, `atom` and residue `name` fields. The **auth_** attributes are alternatives provided by an author in order to match the identification/values used in the publication that describes the structure. If the keyword argument `occupancyfilter` (default: `false`) is `true`, only the atoms with the best occupancy are returned.\n",
       "\n",
       "`parse(document::LightXML.XMLDocument, ::Type{SIFTSXML}; chain::ASCIIString=\"all\", missings::Bool = true)`\n",
       "\n",
       "Returns a `Vector{SIFTSResidue}` parsed from a `SIFTSXML` file. By default, parses all the `chain`s and includes `missings` residues.\n"
      ]
     },
     "execution_count": 68,
     "metadata": {},
     "output_type": "execute_result"
    }
   ],
   "source": [
    "?MIToS.PDB.parse"
   ]
  },
  {
   "cell_type": "code",
   "execution_count": 69,
   "metadata": {
    "collapsed": false
   },
   "outputs": [
    {
     "data": {
      "text/latex": [
       "\\begin{verbatim}\n",
       "print(x)\n",
       "\\end{verbatim}\n",
       "Write (to the default output stream) a canonical (un-decorated) text representation of a value if there is one, otherwise call \\texttt{show}. The representation used by \\texttt{print} includes minimal formatting and tries to avoid Julia-specific details.\n",
       "\\texttt{print(io, res, format::Type{PDBFile})} \\texttt{print(res, format::Type{PDBFile})}\n",
       "Print a \\texttt{PDBResidue} or a vector of \\texttt{PDBResidue}s in PDB format.\n"
      ],
      "text/markdown": [
       "```\n",
       "print(x)\n",
       "```\n",
       "\n",
       "Write (to the default output stream) a canonical (un-decorated) text representation of a value if there is one, otherwise call `show`. The representation used by `print` includes minimal formatting and tries to avoid Julia-specific details.\n",
       "\n",
       "`print(io, res, format::Type{PDBFile})` `print(res, format::Type{PDBFile})`\n",
       "\n",
       "Print a `PDBResidue` or a vector of `PDBResidue`s in PDB format.\n"
      ],
      "text/plain": [
       "```\n",
       "print(x)\n",
       "```\n",
       "\n",
       "Write (to the default output stream) a canonical (un-decorated) text representation of a value if there is one, otherwise call `show`. The representation used by `print` includes minimal formatting and tries to avoid Julia-specific details.\n",
       "\n",
       "`print(io, res, format::Type{PDBFile})` `print(res, format::Type{PDBFile})`\n",
       "\n",
       "Print a `PDBResidue` or a vector of `PDBResidue`s in PDB format.\n"
      ]
     },
     "execution_count": 69,
     "metadata": {},
     "output_type": "execute_result"
    }
   ],
   "source": [
    "?MIToS.PDB.print"
   ]
  },
  {
   "cell_type": "code",
   "execution_count": 70,
   "metadata": {
    "collapsed": false
   },
   "outputs": [
    {
     "data": {
      "text/latex": [
       "\\begin{verbatim}\n",
       "write(stream, x)\n",
       "\\end{verbatim}\n",
       "Write the canonical binary representation of a value to the given stream. Returns the number of bytes written into the stream.\n",
       "You can write multiple values with the same :func:\\texttt{write} call. i.e. the following are equivalent:\n",
       "\\begin{verbatim}\n",
       "write(stream, x, y...)\n",
       "write(stream, x) + write(stream, y...)\n",
       "\\end{verbatim}\n",
       "\\texttt{write{T<:Format}(filename::AbstractString, object, format::Type{T}, mode::ASCIIString=\"w\")}\n",
       "This function opens a file with \\texttt{filename} and \\texttt{mode} (default: \"w\") and writes (\\texttt{print}) the \\texttt{object} with the given \\texttt{format}. Gzipped files should end on \\texttt{.gz}.\n"
      ],
      "text/markdown": [
       "```\n",
       "write(stream, x)\n",
       "```\n",
       "\n",
       "Write the canonical binary representation of a value to the given stream. Returns the number of bytes written into the stream.\n",
       "\n",
       "You can write multiple values with the same :func:`write` call. i.e. the following are equivalent:\n",
       "\n",
       "```\n",
       "write(stream, x, y...)\n",
       "write(stream, x) + write(stream, y...)\n",
       "```\n",
       "\n",
       "`write{T<:Format}(filename::AbstractString, object, format::Type{T}, mode::ASCIIString=\"w\")`\n",
       "\n",
       "This function opens a file with `filename` and `mode` (default: \"w\") and writes (`print`) the `object` with the given `format`. Gzipped files should end on `.gz`.\n"
      ],
      "text/plain": [
       "```\n",
       "write(stream, x)\n",
       "```\n",
       "\n",
       "Write the canonical binary representation of a value to the given stream. Returns the number of bytes written into the stream.\n",
       "\n",
       "You can write multiple values with the same :func:`write` call. i.e. the following are equivalent:\n",
       "\n",
       "```\n",
       "write(stream, x, y...)\n",
       "write(stream, x) + write(stream, y...)\n",
       "```\n",
       "\n",
       "`write{T<:Format}(filename::AbstractString, object, format::Type{T}, mode::ASCIIString=\"w\")`\n",
       "\n",
       "This function opens a file with `filename` and `mode` (default: \"w\") and writes (`print`) the `object` with the given `format`. Gzipped files should end on `.gz`.\n"
      ]
     },
     "execution_count": 70,
     "metadata": {},
     "output_type": "execute_result"
    }
   ],
   "source": [
    "?MIToS.PDB.write"
   ]
  }
 ],
 "metadata": {
  "kernelspec": {
   "display_name": "Julia 0.4.5",
   "language": "julia",
   "name": "julia-0.4"
  },
  "language_info": {
   "file_extension": ".jl",
   "mimetype": "application/julia",
   "name": "julia",
   "version": "0.4.5"
  }
 },
 "nbformat": 4,
 "nbformat_minor": 0
}
