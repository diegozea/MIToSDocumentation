{
 "cells": [
  {
   "cell_type": "markdown",
   "metadata": {},
   "source": [
    "# Scripts\n",
    "\n",
    "MIToS implements several useful scripts to **command line execution (without requiring Julia coding)**. All this scripts are located in the `scripts` folder of the MIToS directory. You can copy them to your working directory, used the path to their folder or put them in the path (look into the **Installation** section of this manual)."
   ]
  },
  {
   "cell_type": "markdown",
   "metadata": {},
   "source": [
    "## Contents\n",
    "\n",
    "- [Corrected Mutual Information](#Corrected-Mutual-Information)\n",
    "    - [Buslje09.jl](#Buslje09.jl)\n",
    "    - [BLMI.jl](#BLMI.jl)\n",
    "- [Protein Structure](#Protein-Structure) \n",
    "    - [DownloadPDB.jl](#DownloadPDB.jl)\n",
    "    - [Distances.jl](#Distances.jl)\n",
    "- [MSA](#MSA)\n",
    "    - [MSADescription.jl](#MSADescription.jl)\n",
    "    - [PercentIdentity.jl](#PercentIdentity.jl)\n",
    "    - [AlignedColumns.jl](#AlignedColumns.jl)\n",
    "    - [SplitStockholm.jl](#SplitStockholm.jl)"
   ]
  },
  {
   "cell_type": "markdown",
   "metadata": {},
   "source": [
    "## Corrected Mutual Information"
   ]
  },
  {
   "cell_type": "markdown",
   "metadata": {},
   "source": [
    "<a href=\"#\"><i class=\"fa fa-arrow-up\"></i></a>\n",
    "\n",
    "### Buslje09.jl"
   ]
  },
  {
   "cell_type": "code",
   "execution_count": 1,
   "metadata": {
    "collapsed": false
   },
   "outputs": [
    {
     "name": "stdout",
     "output_type": "stream",
     "text": [
      "usage: Buslje09.jl [-l] [-o OUTPUT] [-p PARALLEL] [-f FORMAT]\n",
      "                   [-L LAMBDA] [-c] [-i THRESHOLD] [-g MAXGAP] [-a]\n",
      "                   [-s SAMPLES] [-G] [-F] [--version] [-h] [FILE]\n",
      "\n",
      "This takes a MSA file as input. Calculates and saves on *.busjle09.csv\n",
      "a Z score and a corrected MI/MIp as described on:\n",
      "Buslje, C. M., Santos, J., Delfino, J. M., & Nielsen, M. (2009).\n",
      "Correction for phylogeny, small number of observations and data\n",
      "redundancy improves the identification of coevolving amino acid pairs\n",
      "using mutual information. Bioinformatics, 25(9), 1125-1131.\n",
      "\n",
      "positional arguments:\n",
      "  FILE                  File name. If it is not used, the script reads\n",
      "                        from STDIN.\n",
      "\n",
      "optional arguments:\n",
      "  -l, --list            The input is a list of file names. If -p is\n",
      "                        used, files will be processed in parallel.\n",
      "  -o, --output OUTPUT   Name of the output file. Output will be gzip\n",
      "                        if the extension is \".gz\". If it starts with a\n",
      "                        dot, the name is used as a suffix or extension\n",
      "                        of the input filename. If it ends with a dot,\n",
      "                        is used as a prefix. If the output name starts\n",
      "                        and ends with dots, it's used as an interfix\n",
      "                        before the extension.If a single file is used\n",
      "                        and there is not a file name (STDIN), the\n",
      "                        output will be print into STDOUT, unless a\n",
      "                        output filename is used. You can use \"STDOUT\"\n",
      "                        to force print into STDOUT. STDOUT can not be\n",
      "                        use with --list. (default: \".busjle09.csv\")\n",
      "  -p, --parallel PARALLEL\n",
      "                        Number of worker processes. (type: Int64,\n",
      "                        default: 1)\n",
      "  -f, --format FORMAT   Format of the MSA: Stockholm, Raw or FASTA\n",
      "                        (default: \"Stockholm\")\n",
      "  -L, --lambda LAMBDA   Low count value (type: Float64, default: 0.05)\n",
      "  -c, --clustering      Sequence clustering (Hobohm I)\n",
      "  -i, --threshold THRESHOLD\n",
      "                        Percent identity threshold for sequence\n",
      "                        clustering (Hobohm I) (type: Float64, default:\n",
      "                        62.0)\n",
      "  -g, --maxgap MAXGAP   Maximum fraction of gaps in positions included\n",
      "                        in calculation (type: Float64, default: 0.5)\n",
      "  -a, --apc             Use APC correction (MIp)\n",
      "  -s, --samples SAMPLES\n",
      "                        Number of samples for Z-score (type: Int64,\n",
      "                        default: 100)\n",
      "  -G, --usegap          Use gaps on statistics\n",
      "  -F, --fixedgaps       Fix gaps positions for the random samples\n",
      "  --version             show version information and exit\n",
      "  -h, --help            show this help message and exit\n",
      "\n",
      "\n",
      "MIToS 1.1.0+\n",
      "\n",
      "Bioinformatics Unit\n",
      "Leloir Institute Foundation\n",
      "Av. Patricias Argentinas 435, CP C1405BWE, Buenos Aires, Argentina\n",
      "\n"
     ]
    }
   ],
   "source": [
    ";Buslje09.jl -h"
   ]
  },
  {
   "cell_type": "markdown",
   "metadata": {},
   "source": [
    "<a href=\"#\"><i class=\"fa fa-arrow-up\"></i></a>\n",
    "\n",
    "### BLMI.jl"
   ]
  },
  {
   "cell_type": "code",
   "execution_count": 2,
   "metadata": {
    "collapsed": false
   },
   "outputs": [
    {
     "name": "stdout",
     "output_type": "stream",
     "text": [
      "usage: BLMI.jl [-l] [-o OUTPUT] [-p PARALLEL] [-f FORMAT] [-b BETA]\n",
      "               [-i THRESHOLD] [-g MAXGAP] [-a] [-s SAMPLES] [-F]\n",
      "               [--version] [-h] [FILE]\n",
      "\n",
      "This takes a MSA file as input. Calculates and saves on *.BLMI.csv a Z\n",
      "score and a corrected MI/MIp. The script uses BLOSUM62 based pseudo\n",
      "frequencies and sequences clustering (Hobohm I).\n",
      "\n",
      "positional arguments:\n",
      "  FILE                  File name. If it is not used, the script reads\n",
      "                        from STDIN.\n",
      "\n",
      "optional arguments:\n",
      "  -l, --list            The input is a list of file names. If -p is\n",
      "                        used, files will be processed in parallel.\n",
      "  -o, --output OUTPUT   Name of the output file. Output will be gzip\n",
      "                        if the extension is \".gz\". If it starts with a\n",
      "                        dot, the name is used as a suffix or extension\n",
      "                        of the input filename. If it ends with a dot,\n",
      "                        is used as a prefix. If the output name starts\n",
      "                        and ends with dots, it's used as an interfix\n",
      "                        before the extension.If a single file is used\n",
      "                        and there is not a file name (STDIN), the\n",
      "                        output will be print into STDOUT, unless a\n",
      "                        output filename is used. You can use \"STDOUT\"\n",
      "                        to force print into STDOUT. STDOUT can not be\n",
      "                        use with --list. (default: \".BLMI.csv\")\n",
      "  -p, --parallel PARALLEL\n",
      "                        Number of worker processes. (type: Int64,\n",
      "                        default: 1)\n",
      "  -f, --format FORMAT   Format of the MSA: Stockholm, Raw or FASTA\n",
      "                        (default: \"Stockholm\")\n",
      "  -b, --beta BETA       β for BLOSUM62 pseudo frequencies (type:\n",
      "                        Float64, default: 8.512)\n",
      "  -i, --threshold THRESHOLD\n",
      "                        Percent identity threshold for sequence\n",
      "                        clustering (Hobohm I) (type: Float64, default:\n",
      "                        62.0)\n",
      "  -g, --maxgap MAXGAP   Maximum fraction of gaps in positions included\n",
      "                        in calculation (type: Float64, default: 0.5)\n",
      "  -a, --apc             Use APC correction (MIp)\n",
      "  -s, --samples SAMPLES\n",
      "                        Number of samples for Z-score (type: Int64,\n",
      "                        default: 50)\n",
      "  -F, --fixedgaps       Fix gaps positions for the random samples\n",
      "  --version             show version information and exit\n",
      "  -h, --help            show this help message and exit\n",
      "\n",
      "\n",
      "MIToS 1.1.0+\n",
      "\n",
      "Bioinformatics Unit\n",
      "Leloir Institute Foundation\n",
      "Av. Patricias Argentinas 435, CP C1405BWE, Buenos Aires, Argentina\n",
      "\n"
     ]
    }
   ],
   "source": [
    ";BLMI.jl -h"
   ]
  },
  {
   "cell_type": "markdown",
   "metadata": {},
   "source": [
    "<a href=\"#\"><i class=\"fa fa-arrow-up\"></i></a>\n",
    "\n",
    "## Protein Structure"
   ]
  },
  {
   "cell_type": "markdown",
   "metadata": {},
   "source": [
    "<a href=\"#\"><i class=\"fa fa-arrow-up\"></i></a>\n",
    "\n",
    "### DownloadPDB.jl"
   ]
  },
  {
   "cell_type": "code",
   "execution_count": 3,
   "metadata": {
    "collapsed": false
   },
   "outputs": [
    {
     "name": "stdout",
     "output_type": "stream",
     "text": [
      "usage: DownloadPDB.jl [-c CODE] [-l LIST] [-f FORMAT] [--version] [-h]\n",
      "\n",
      "Download gzipped files from PDB.\n",
      "\n",
      "optional arguments:\n",
      "  -c, --code CODE      PDB code\n",
      "  -l, --list LIST      File with a list of PDB codes (one per line)\n",
      "  -f, --format FORMAT  Format. It should be PDBFile (pdb) or PDBML\n",
      "                       (xml) (default: \"PDBML\")\n",
      "  --version            show version information and exit\n",
      "  -h, --help           show this help message and exit\n",
      "\n",
      "\n",
      "MIToS 1.1.0+\n",
      "\n",
      "Bioinformatics Unit\n",
      "Leloir Institute Foundation\n",
      "Av. Patricias Argentinas 435, CP C1405BWE, Buenos Aires, Argentina\n",
      "\n"
     ]
    }
   ],
   "source": [
    ";DownloadPDB.jl -h"
   ]
  },
  {
   "cell_type": "markdown",
   "metadata": {},
   "source": [
    "<a href=\"#\"><i class=\"fa fa-arrow-up\"></i></a>\n",
    "\n",
    "### Distances.jl"
   ]
  },
  {
   "cell_type": "code",
   "execution_count": 4,
   "metadata": {
    "collapsed": false
   },
   "outputs": [
    {
     "name": "stdout",
     "output_type": "stream",
     "text": [
      "usage: Distances.jl [-l] [-o OUTPUT] [-p PARALLEL] [-d DISTANCE]\n",
      "                    [-f FORMAT] [-m MODEL] [-c CHAIN] [-g GROUP] [-i]\n",
      "                    [--version] [-h] [FILE]\n",
      "\n",
      "Calculates residues distance and writes them into a *.distances.csv.gz\n",
      "gzipped file.\n",
      "\n",
      "positional arguments:\n",
      "  FILE                  File name. If it is not used, the script reads\n",
      "                        from STDIN.\n",
      "\n",
      "optional arguments:\n",
      "  -l, --list            The input is a list of file names. If -p is\n",
      "                        used, files will be processed in parallel.\n",
      "  -o, --output OUTPUT   Name of the output file. Output will be gzip\n",
      "                        if the extension is \".gz\". If it starts with a\n",
      "                        dot, the name is used as a suffix or extension\n",
      "                        of the input filename. If it ends with a dot,\n",
      "                        is used as a prefix. If the output name starts\n",
      "                        and ends with dots, it's used as an interfix\n",
      "                        before the extension.If a single file is used\n",
      "                        and there is not a file name (STDIN), the\n",
      "                        output will be print into STDOUT, unless a\n",
      "                        output filename is used. You can use \"STDOUT\"\n",
      "                        to force print into STDOUT. STDOUT can not be\n",
      "                        use with --list. (default:\n",
      "                        \".distances.csv.gz\")\n",
      "  -p, --parallel PARALLEL\n",
      "                        Number of worker processes. (type: Int64,\n",
      "                        default: 1)\n",
      "  -d, --distance DISTANCE\n",
      "                        The distance to be calculated, options: All,\n",
      "                        Heavy, CA, CB (default: \"All\")\n",
      "  -f, --format FORMAT   Format of the PDB file: It should be PDBFile\n",
      "                        or PDBML (default: \"PDBFile\")\n",
      "  -m, --model MODEL     The model to be used, * for all (default: \"1\")\n",
      "  -c, --chain CHAIN     The chain to be used, * for all (default: \"*\")\n",
      "  -g, --group GROUP     Group of atoms to be used, should be ATOM,\n",
      "                        HETATM or * for all (default: \"*\")\n",
      "  -i, --inter           Calculate inter chain distances\n",
      "  --version             show version information and exit\n",
      "  -h, --help            show this help message and exit\n",
      "\n",
      "\n",
      "MIToS 1.1.0+\n",
      "\n",
      "Bioinformatics Unit\n",
      "Leloir Institute Foundation\n",
      "Av. Patricias Argentinas 435, CP C1405BWE, Buenos Aires, Argentina\n",
      "\n"
     ]
    }
   ],
   "source": [
    ";Distances.jl -h"
   ]
  },
  {
   "cell_type": "markdown",
   "metadata": {},
   "source": [
    "<a href=\"#\"><i class=\"fa fa-arrow-up\"></i></a>\n",
    "\n",
    "## MSA"
   ]
  },
  {
   "cell_type": "markdown",
   "metadata": {},
   "source": [
    "<a href=\"#\"><i class=\"fa fa-arrow-up\"></i></a>\n",
    "\n",
    "### MSADescription.jl"
   ]
  },
  {
   "cell_type": "code",
   "execution_count": 5,
   "metadata": {
    "collapsed": false
   },
   "outputs": [
    {
     "name": "stdout",
     "output_type": "stream",
     "text": [
      "usage: MSADescription.jl [-l] [-o OUTPUT] [-p PARALLEL] [-f FORMAT]\n",
      "                        [-e] [--version] [-h] [FILE]\n",
      "\n",
      "Creates an *.description.csv from a Stockholm file with: the number of\n",
      "columns, sequences, clusters after Hobohm clustering at 62% identity\n",
      "and mean percent identity. Also the mean, standard deviation and\n",
      "quantiles of: sequence coverage of the MSA, gap percentage.\n",
      "\n",
      "positional arguments:\n",
      "  FILE                  File name. If it is not used, the script reads\n",
      "                        from STDIN.\n",
      "\n",
      "optional arguments:\n",
      "  -l, --list            The input is a list of file names. If -p is\n",
      "                        used, files will be processed in parallel.\n",
      "  -o, --output OUTPUT   Name of the output file. Output will be gzip\n",
      "                        if the extension is \".gz\". If it starts with a\n",
      "                        dot, the name is used as a suffix or extension\n",
      "                        of the input filename. If it ends with a dot,\n",
      "                        is used as a prefix. If the output name starts\n",
      "                        and ends with dots, it's used as an interfix\n",
      "                        before the extension.If a single file is used\n",
      "                        and there is not a file name (STDIN), the\n",
      "                        output will be print into STDOUT, unless a\n",
      "                        output filename is used. You can use \"STDOUT\"\n",
      "                        to force print into STDOUT. STDOUT can not be\n",
      "                        use with --list. (default: \".description.csv\")\n",
      "  -p, --parallel PARALLEL\n",
      "                        Number of worker processes. (type: Int64,\n",
      "                        default: 1)\n",
      "  -f, --format FORMAT   Format of the MSA: Stockholm, Raw or FASTA\n",
      "                        (default: \"Stockholm\")\n",
      "  -e, --exact           If it's true, the mean percent identity is\n",
      "                        exact (using all the pairwise comparisons).\n",
      "  --version             show version information and exit\n",
      "  -h, --help            show this help message and exit\n",
      "\n",
      "\n",
      "MIToS 1.1.0+\n",
      "\n",
      "Bioinformatics Unit\n",
      "Leloir Institute Foundation\n",
      "Av. Patricias Argentinas 435, CP C1405BWE, Buenos Aires, Argentina\n",
      "\n"
     ]
    }
   ],
   "source": [
    ";MSADescription.jl -h"
   ]
  },
  {
   "cell_type": "markdown",
   "metadata": {},
   "source": [
    "<a href=\"#\"><i class=\"fa fa-arrow-up\"></i></a>\n",
    "\n",
    "### PercentIdentity.jl"
   ]
  },
  {
   "cell_type": "code",
   "execution_count": 6,
   "metadata": {
    "collapsed": false
   },
   "outputs": [
    {
     "name": "stdout",
     "output_type": "stream",
     "text": [
      "usage: PercentIdentity.jl [-l] [-o OUTPUT] [-p PARALLEL] [-f FORMAT]\n",
      "                        [-s] [--version] [-h] [FILE]\n",
      "\n",
      "Calculates the percentage identity between all the sequences of an MSA\n",
      "and creates an *.pidstats.csv file with: The number of columns and\n",
      "sequences. The mean, standard deviation, median, minimum and maximum\n",
      "values and first and third quantiles of the percentage identity. It\n",
      "could also create and pidlist.csv file with the percentage identity\n",
      "for each pairwise comparison.\n",
      "\n",
      "positional arguments:\n",
      "  FILE                  File name. If it is not used, the script reads\n",
      "                        from STDIN.\n",
      "\n",
      "optional arguments:\n",
      "  -l, --list            The input is a list of file names. If -p is\n",
      "                        used, files will be processed in parallel.\n",
      "  -o, --output OUTPUT   Name of the output file. Output will be gzip\n",
      "                        if the extension is \".gz\". If it starts with a\n",
      "                        dot, the name is used as a suffix or extension\n",
      "                        of the input filename. If it ends with a dot,\n",
      "                        is used as a prefix. If the output name starts\n",
      "                        and ends with dots, it's used as an interfix\n",
      "                        before the extension.If a single file is used\n",
      "                        and there is not a file name (STDIN), the\n",
      "                        output will be print into STDOUT, unless a\n",
      "                        output filename is used. You can use \"STDOUT\"\n",
      "                        to force print into STDOUT. STDOUT can not be\n",
      "                        use with --list. (default: \".pidstats.csv\")\n",
      "  -p, --parallel PARALLEL\n",
      "                        Number of worker processes. (type: Int64,\n",
      "                        default: 1)\n",
      "  -f, --format FORMAT   Format of the MSA: Stockholm, Raw or FASTA\n",
      "                        (default: \"Stockholm\")\n",
      "  -s, --savelist        Create and pidlist.csv file with the\n",
      "                        percentage identity for each pairwise\n",
      "                        comparison.\n",
      "  --version             show version information and exit\n",
      "  -h, --help            show this help message and exit\n",
      "\n",
      "\n",
      "MIToS 1.1.0+\n",
      "\n",
      "Bioinformatics Unit\n",
      "Leloir Institute Foundation\n",
      "Av. Patricias Argentinas 435, CP C1405BWE, Buenos Aires, Argentina\n",
      "\n"
     ]
    }
   ],
   "source": [
    ";PercentIdentity.jl -h"
   ]
  },
  {
   "cell_type": "markdown",
   "metadata": {},
   "source": [
    "<a href=\"#\"><i class=\"fa fa-arrow-up\"></i></a>\n",
    "\n",
    "### AlignedColumns.jl"
   ]
  },
  {
   "cell_type": "code",
   "execution_count": 7,
   "metadata": {
    "collapsed": false
   },
   "outputs": [
    {
     "name": "stdout",
     "output_type": "stream",
     "text": [
      "usage: AlignedColumns.jl [-l] [-o OUTPUT] [-p PARALLEL] [--version]\n",
      "                        [-h] [FILE]\n",
      "\n",
      "Creates a file in Stockholm format with the aligned columns from a\n",
      "Pfam Stockholm file. Insertions are deleted, as they are unaligned in\n",
      "a proﬁle HMM. The output file *.aligned.* contains UniProt residue\n",
      "numbers and original column numbers in its annotations.\n",
      "\n",
      "positional arguments:\n",
      "  FILE                  File name. If it is not used, the script reads\n",
      "                        from STDIN.\n",
      "\n",
      "optional arguments:\n",
      "  -l, --list            The input is a list of file names. If -p is\n",
      "                        used, files will be processed in parallel.\n",
      "  -o, --output OUTPUT   Name of the output file. Output will be gzip\n",
      "                        if the extension is \".gz\". If it starts with a\n",
      "                        dot, the name is used as a suffix or extension\n",
      "                        of the input filename. If it ends with a dot,\n",
      "                        is used as a prefix. If the output name starts\n",
      "                        and ends with dots, it's used as an interfix\n",
      "                        before the extension.If a single file is used\n",
      "                        and there is not a file name (STDIN), the\n",
      "                        output will be print into STDOUT, unless a\n",
      "                        output filename is used. You can use \"STDOUT\"\n",
      "                        to force print into STDOUT. STDOUT can not be\n",
      "                        use with --list. (default: \".aligned.\")\n",
      "  -p, --parallel PARALLEL\n",
      "                        Number of worker processes. (type: Int64,\n",
      "                        default: 1)\n",
      "  --version             show version information and exit\n",
      "  -h, --help            show this help message and exit\n",
      "\n",
      "\n",
      "MIToS 1.1.0+\n",
      "\n",
      "Bioinformatics Unit\n",
      "Leloir Institute Foundation\n",
      "Av. Patricias Argentinas 435, CP C1405BWE, Buenos Aires, Argentina\n",
      "\n"
     ]
    }
   ],
   "source": [
    ";AlignedColumns.jl -h"
   ]
  },
  {
   "cell_type": "markdown",
   "metadata": {},
   "source": [
    "<a href=\"#\"><i class=\"fa fa-arrow-up\"></i></a>\n",
    "\n",
    "### SplitStockholm.jl"
   ]
  },
  {
   "cell_type": "code",
   "execution_count": 8,
   "metadata": {
    "collapsed": false
   },
   "outputs": [
    {
     "name": "stdout",
     "output_type": "stream",
     "text": [
      "usage: SplitStockholm.jl [-p PATH] [--version] [-h] file\n",
      "\n",
      "Splits a file with multiple sequence alignments in Stockholm format,\n",
      "creating one compressed file per MSA in Stockholm format:\n",
      "accessionumber.gz\n",
      "\n",
      "positional arguments:\n",
      "  file             Input file\n",
      "\n",
      "optional arguments:\n",
      "  -p, --path PATH  Path for the output files [default: execution\n",
      "                   directory] (default: \"\")\n",
      "  --version        show version information and exit\n",
      "  -h, --help       show this help message and exit\n",
      "\n",
      "\n",
      "MIToS 1.1.0+\n",
      "\n",
      "Bioinformatics Unit\n",
      "Leloir Institute Foundation\n",
      "Av. Patricias Argentinas 435, CP C1405BWE, Buenos Aires, Argentina\n",
      "\n"
     ]
    }
   ],
   "source": [
    ";SplitStockholm.jl -h"
   ]
  },
  {
   "cell_type": "markdown",
   "metadata": {
    "collapsed": true
   },
   "source": [
    "<a href=\"#\"><i class=\"fa fa-arrow-up\"></i></a>"
   ]
  }
 ],
 "metadata": {
  "kernelspec": {
   "display_name": "Julia 0.4.5",
   "language": "julia",
   "name": "julia-0.4"
  },
  "language_info": {
   "file_extension": ".jl",
   "mimetype": "application/julia",
   "name": "julia",
   "version": "0.4.5"
  }
 },
 "nbformat": 4,
 "nbformat_minor": 0
}
