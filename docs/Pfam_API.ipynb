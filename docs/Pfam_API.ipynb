{
 "cells": [
  {
   "cell_type": "markdown",
   "metadata": {},
   "source": [
    "# Pfam API\n",
    "\n",
    "- [Types](#Types)\n",
    "- [Methods](#Methods)"
   ]
  },
  {
   "cell_type": "code",
   "execution_count": 1,
   "metadata": {
    "collapsed": true
   },
   "outputs": [],
   "source": [
    "using MIToS.Pfam"
   ]
  },
  {
   "cell_type": "code",
   "execution_count": 2,
   "metadata": {
    "collapsed": false
   },
   "outputs": [
    {
     "data": {
      "text/latex": [
       "The \\texttt{Pfam} module, defines functions to measure the protein contact prediction performance of information measure between column pairs from a Pfam MSA.\n",
       "\\textbf{Features}\n",
       "\\begin{itemize}\n",
       "\\item Read and download Pfam MSAs\n",
       "\\item Obtain PDB information from alignment annotations\n",
       "\\item Map between sequence/alignment residues/columns and PDB structures\n",
       "\\item Measure of AUC (ROC curve) for contact prediction of MI scores\n",
       "\\end{itemize}\n",
       "\\begin{verbatim}\n",
       "\n",
       "using MIToS.Pfam\n",
       "\\end{verbatim}\n"
      ],
      "text/markdown": [
       "The `Pfam` module, defines functions to measure the protein contact prediction performance of information measure between column pairs from a Pfam MSA.\n",
       "\n",
       "**Features**\n",
       "\n",
       "  * Read and download Pfam MSAs\n",
       "  * Obtain PDB information from alignment annotations\n",
       "  * Map between sequence/alignment residues/columns and PDB structures\n",
       "  * Measure of AUC (ROC curve) for contact prediction of MI scores\n",
       "\n",
       "```julia\n",
       "\n",
       "using MIToS.Pfam\n",
       "```\n"
      ],
      "text/plain": [
       "The `Pfam` module, defines functions to measure the protein contact prediction performance of information measure between column pairs from a Pfam MSA.\n",
       "\n",
       "**Features**\n",
       "\n",
       "  * Read and download Pfam MSAs\n",
       "  * Obtain PDB information from alignment annotations\n",
       "  * Map between sequence/alignment residues/columns and PDB structures\n",
       "  * Measure of AUC (ROC curve) for contact prediction of MI scores\n",
       "\n",
       "```julia\n",
       "\n",
       "using MIToS.Pfam\n",
       "```\n"
      ]
     },
     "execution_count": 2,
     "metadata": {},
     "output_type": "execute_result"
    }
   ],
   "source": [
    "?MIToS.Pfam"
   ]
  },
  {
   "cell_type": "markdown",
   "metadata": {},
   "source": [
    "<div class=\"panel panel-info\">\n",
    "    <div class=\"panel-heading\">\n",
    "        <strong>Julia help mode</strong>\n",
    "    </div>\n",
    "    <div class=\"panel-body\">\n",
    "        <p>If you type <code>?</code> at the beginning of the Julia REPL line, you will enter in the Julia help mode. In this mode, Julia prints the help or <strong>documentation</strong> of the entered element. This is a nice way of getting information about MIToS functions, types, etc. from Julia.</p>\n",
    "    </div>\n",
    "</div>"
   ]
  },
  {
   "cell_type": "markdown",
   "metadata": {},
   "source": [
    "<a href=\"#\"><i class=\"fa fa-arrow-up\"></i></a>\n",
    "\n",
    "## Types"
   ]
  },
  {
   "cell_type": "code",
   "execution_count": 4,
   "metadata": {
    "collapsed": false
   },
   "outputs": [
    {
     "data": {
      "text/latex": [
       "No documentation found.\n",
       "\\textbf{Summary:}\n",
       "\\begin{verbatim}\n",
       "immutable MIToS.MSA.Stockholm <: MIToS.Utils.Format\n",
       "\\end{verbatim}\n"
      ],
      "text/markdown": [
       "No documentation found.\n",
       "\n",
       "**Summary:**\n",
       "\n",
       "```julia\n",
       "immutable MIToS.MSA.Stockholm <: MIToS.Utils.Format\n",
       "```\n"
      ],
      "text/plain": [
       "No documentation found.\n",
       "\n",
       "**Summary:**\n",
       "\n",
       "```julia\n",
       "immutable MIToS.MSA.Stockholm <: MIToS.Utils.Format\n",
       "```\n"
      ]
     },
     "execution_count": 4,
     "metadata": {},
     "output_type": "execute_result"
    }
   ],
   "source": [
    "?MIToS.Pfam.Stockholm"
   ]
  },
  {
   "cell_type": "markdown",
   "metadata": {},
   "source": [
    "<a href=\"#\"><i class=\"fa fa-arrow-up\"></i></a>\n",
    "\n",
    "## Methods"
   ]
  },
  {
   "cell_type": "code",
   "execution_count": 5,
   "metadata": {
    "collapsed": false
   },
   "outputs": [
    {
     "data": {
      "text/latex": [
       "Download a gzipped stockholm full alignment for the \\texttt{pfamcode}. The extension of the downloaded file is \\texttt{.stockholm.gz} by default. The \\texttt{filename} can be changed, but the \\texttt{.gz} at the end is mandatory.\n"
      ],
      "text/markdown": [
       "Download a gzipped stockholm full alignment for the `pfamcode`. The extension of the downloaded file is `.stockholm.gz` by default. The `filename` can be changed, but the `.gz` at the end is mandatory.\n"
      ],
      "text/plain": [
       "Download a gzipped stockholm full alignment for the `pfamcode`. The extension of the downloaded file is `.stockholm.gz` by default. The `filename` can be changed, but the `.gz` at the end is mandatory.\n"
      ]
     },
     "execution_count": 5,
     "metadata": {},
     "output_type": "execute_result"
    }
   ],
   "source": [
    "?MIToS.Pfam.downloadpfam"
   ]
  },
  {
   "cell_type": "code",
   "execution_count": 6,
   "metadata": {
    "collapsed": false
   },
   "outputs": [
    {
     "data": {
      "text/latex": [
       "Generates from a Pfam \\texttt{msa} a \\texttt{Dict{ASCIIString, Vector{Tuple{ASCIIString,ASCIIString}}}}. Keys are sequence IDs and each value is a list of tuples containing PDB code and chain.\n",
       "\\begin{verbatim}\n",
       "julia> getseq2pdb(msa)\n",
       "Dict{ASCIIString,Array{Tuple{ASCIIString,ASCIIString},1}} with 1 entry:\n",
       "  \"F112_SSV1/3-112\" => [(\"2VQC\",\"A\")]\n",
       "\n",
       "\\end{verbatim}\n"
      ],
      "text/markdown": [
       "Generates from a Pfam `msa` a `Dict{ASCIIString, Vector{Tuple{ASCIIString,ASCIIString}}}`. Keys are sequence IDs and each value is a list of tuples containing PDB code and chain.\n",
       "\n",
       "```\n",
       "julia> getseq2pdb(msa)\n",
       "Dict{ASCIIString,Array{Tuple{ASCIIString,ASCIIString},1}} with 1 entry:\n",
       "  \"F112_SSV1/3-112\" => [(\"2VQC\",\"A\")]\n",
       "\n",
       "```\n"
      ],
      "text/plain": [
       "Generates from a Pfam `msa` a `Dict{ASCIIString, Vector{Tuple{ASCIIString,ASCIIString}}}`. Keys are sequence IDs and each value is a list of tuples containing PDB code and chain.\n",
       "\n",
       "```\n",
       "julia> getseq2pdb(msa)\n",
       "Dict{ASCIIString,Array{Tuple{ASCIIString,ASCIIString},1}} with 1 entry:\n",
       "  \"F112_SSV1/3-112\" => [(\"2VQC\",\"A\")]\n",
       "\n",
       "```\n"
      ]
     },
     "execution_count": 6,
     "metadata": {},
     "output_type": "execute_result"
    }
   ],
   "source": [
    "?MIToS.Pfam.getseq2pdb"
   ]
  },
  {
   "cell_type": "code",
   "execution_count": 7,
   "metadata": {
    "collapsed": false
   },
   "outputs": [
    {
     "data": {
      "text/latex": [
       "\\texttt{msacolumn2pdbresidue(msa, seqid, pdbid, chain, pfamid, siftsfile; strict=false, checkpdbname=false, missings=true)}\n",
       "This function returns a \\texttt{Dict{Int64,ASCIIString}} with \\textbf{MSA column numbers on the input file} as keys and PDB residue numbers (\\texttt{\"\"} for missings) as values. The mapping is performed using SIFTS. This function needs correct \\emph{ColMap} and \\emph{SeqMap} annotations. This checks correspondence of the residues between the MSA sequence and SIFTS (It throws a warning if there are differences). Missing residues are included if the keyword argument \\texttt{missings} is \\texttt{true} (default: \\texttt{true}). If the keyword argument \\texttt{strict} is \\texttt{true} (default: \\texttt{false}), throws an Error, instead of a Warning, when residues don't match. If the keyword argument \\texttt{checkpdbname} is \\texttt{true} (default: \\texttt{false}), throws an Error if the three letter name of the PDB residue isn't the MSA residue. If you are working with a \\textbf{downloaded Pfam MSA without modifications}, you should \\texttt{read} it using \\texttt{generatemapping=true} and \\texttt{useidcoordinates=true}. If you don't indicate the path to the \\texttt{siftsfile} used in the mapping, this function downloads the SIFTS file in the current folder. If you don't indicate the Pfam accession number (\\texttt{pfamid}), this function tries to read the \\emph{AC} file annotation.\n"
      ],
      "text/markdown": [
       "`msacolumn2pdbresidue(msa, seqid, pdbid, chain, pfamid, siftsfile; strict=false, checkpdbname=false, missings=true)`\n",
       "\n",
       "This function returns a `Dict{Int64,ASCIIString}` with **MSA column numbers on the input file** as keys and PDB residue numbers (`\"\"` for missings) as values. The mapping is performed using SIFTS. This function needs correct *ColMap* and *SeqMap* annotations. This checks correspondence of the residues between the MSA sequence and SIFTS (It throws a warning if there are differences). Missing residues are included if the keyword argument `missings` is `true` (default: `true`). If the keyword argument `strict` is `true` (default: `false`), throws an Error, instead of a Warning, when residues don't match. If the keyword argument `checkpdbname` is `true` (default: `false`), throws an Error if the three letter name of the PDB residue isn't the MSA residue. If you are working with a **downloaded Pfam MSA without modifications**, you should `read` it using `generatemapping=true` and `useidcoordinates=true`. If you don't indicate the path to the `siftsfile` used in the mapping, this function downloads the SIFTS file in the current folder. If you don't indicate the Pfam accession number (`pfamid`), this function tries to read the *AC* file annotation.\n"
      ],
      "text/plain": [
       "`msacolumn2pdbresidue(msa, seqid, pdbid, chain, pfamid, siftsfile; strict=false, checkpdbname=false, missings=true)`\n",
       "\n",
       "This function returns a `Dict{Int64,ASCIIString}` with **MSA column numbers on the input file** as keys and PDB residue numbers (`\"\"` for missings) as values. The mapping is performed using SIFTS. This function needs correct *ColMap* and *SeqMap* annotations. This checks correspondence of the residues between the MSA sequence and SIFTS (It throws a warning if there are differences). Missing residues are included if the keyword argument `missings` is `true` (default: `true`). If the keyword argument `strict` is `true` (default: `false`), throws an Error, instead of a Warning, when residues don't match. If the keyword argument `checkpdbname` is `true` (default: `false`), throws an Error if the three letter name of the PDB residue isn't the MSA residue. If you are working with a **downloaded Pfam MSA without modifications**, you should `read` it using `generatemapping=true` and `useidcoordinates=true`. If you don't indicate the path to the `siftsfile` used in the mapping, this function downloads the SIFTS file in the current folder. If you don't indicate the Pfam accession number (`pfamid`), this function tries to read the *AC* file annotation.\n"
      ]
     },
     "execution_count": 7,
     "metadata": {},
     "output_type": "execute_result"
    }
   ],
   "source": [
    "?MIToS.Pfam.msacolumn2pdbresidue"
   ]
  },
  {
   "cell_type": "code",
   "execution_count": 8,
   "metadata": {
    "collapsed": false
   },
   "outputs": [
    {
     "data": {
      "text/latex": [
       "Returns a \\texttt{BitVector} where there is a \\texttt{true} for each column with PDB residue.\n"
      ],
      "text/markdown": [
       "Returns a `BitVector` where there is a `true` for each column with PDB residue.\n"
      ],
      "text/plain": [
       "Returns a `BitVector` where there is a `true` for each column with PDB residue.\n"
      ]
     },
     "execution_count": 8,
     "metadata": {},
     "output_type": "execute_result"
    }
   ],
   "source": [
    "?MIToS.Pfam.hasresidues"
   ]
  },
  {
   "cell_type": "code",
   "execution_count": 9,
   "metadata": {
    "collapsed": false
   },
   "outputs": [
    {
     "data": {
      "text/latex": [
       "This function takes an \\texttt{AnnotatedMultipleSequenceAlignment} with correct \\emph{ColMap} annotations and two dicts:\n",
       "\\begin{enumerate}\n",
       "\\item The first is an \\texttt{OrderedDict{ASCIIString,PDBResidue}} from PDB residue number to \\texttt{PDBResidue}.\n",
       "\\item The second is a \\texttt{Dict{Int,ASCIIString}} from \\textbf{MSA column number on the input file} to PDB residue number.\n",
       "\\end{enumerate}\n",
       "\\texttt{msacontacts} returns a \\texttt{PairwiseListMatrix{Float64,false}} of \\texttt{0.0} and \\texttt{1.0} where \\texttt{1.0} indicates a residue contact (inter residue distance less or equal to \\texttt{6.05} angstroms between any heavy atom). \\texttt{NaN} indicates a missing value.\n"
      ],
      "text/markdown": [
       "This function takes an `AnnotatedMultipleSequenceAlignment` with correct *ColMap* annotations and two dicts:\n",
       "\n",
       "1. The first is an `OrderedDict{ASCIIString,PDBResidue}` from PDB residue number to `PDBResidue`.\n",
       "2. The second is a `Dict{Int,ASCIIString}` from **MSA column number on the input file** to PDB residue number.\n",
       "\n",
       "`msacontacts` returns a `PairwiseListMatrix{Float64,false}` of `0.0` and `1.0` where `1.0` indicates a residue contact (inter residue distance less or equal to `6.05` angstroms between any heavy atom). `NaN` indicates a missing value.\n"
      ],
      "text/plain": [
       "This function takes an `AnnotatedMultipleSequenceAlignment` with correct *ColMap* annotations and two dicts:\n",
       "\n",
       "1. The first is an `OrderedDict{ASCIIString,PDBResidue}` from PDB residue number to `PDBResidue`.\n",
       "2. The second is a `Dict{Int,ASCIIString}` from **MSA column number on the input file** to PDB residue number.\n",
       "\n",
       "`msacontacts` returns a `PairwiseListMatrix{Float64,false}` of `0.0` and `1.0` where `1.0` indicates a residue contact (inter residue distance less or equal to `6.05` angstroms between any heavy atom). `NaN` indicates a missing value.\n"
      ]
     },
     "execution_count": 9,
     "metadata": {},
     "output_type": "execute_result"
    }
   ],
   "source": [
    "?MIToS.Pfam.msacontacts"
   ]
  },
  {
   "cell_type": "code",
   "execution_count": 10,
   "metadata": {
    "collapsed": false
   },
   "outputs": [
    {
     "data": {
      "text/latex": [
       "This function takes an \\texttt{AnnotatedMultipleSequenceAlignment} with correct \\emph{ColMap} annotations and two dicts:\n",
       "\\begin{enumerate}\n",
       "\\item The first is an \\texttt{OrderedDict{ASCIIString,PDBResidue}} from PDB residue number to \\texttt{PDBResidue}.\n",
       "\\item The second is a \\texttt{Dict{Int,ASCIIString}} from MSA column number \\textbf{on the input file} to PDB residue number.\n",
       "\\end{enumerate}\n",
       "\\texttt{msaresidues} returns an \\texttt{OrderedDict{Int,PDBResidue}} from input column number (ColMap) to \\texttt{PDBResidue}. Residues on inserts are not included.\n"
      ],
      "text/markdown": [
       "This function takes an `AnnotatedMultipleSequenceAlignment` with correct *ColMap* annotations and two dicts:\n",
       "\n",
       "1. The first is an `OrderedDict{ASCIIString,PDBResidue}` from PDB residue number to `PDBResidue`.\n",
       "2. The second is a `Dict{Int,ASCIIString}` from MSA column number **on the input file** to PDB residue number.\n",
       "\n",
       "`msaresidues` returns an `OrderedDict{Int,PDBResidue}` from input column number (ColMap) to `PDBResidue`. Residues on inserts are not included.\n"
      ],
      "text/plain": [
       "This function takes an `AnnotatedMultipleSequenceAlignment` with correct *ColMap* annotations and two dicts:\n",
       "\n",
       "1. The first is an `OrderedDict{ASCIIString,PDBResidue}` from PDB residue number to `PDBResidue`.\n",
       "2. The second is a `Dict{Int,ASCIIString}` from MSA column number **on the input file** to PDB residue number.\n",
       "\n",
       "`msaresidues` returns an `OrderedDict{Int,PDBResidue}` from input column number (ColMap) to `PDBResidue`. Residues on inserts are not included.\n"
      ]
     },
     "execution_count": 10,
     "metadata": {},
     "output_type": "execute_result"
    }
   ],
   "source": [
    "?MIToS.Pfam.msaresidues"
   ]
  },
  {
   "cell_type": "code",
   "execution_count": 11,
   "metadata": {
    "collapsed": false
   },
   "outputs": [
    {
     "data": {
      "text/latex": [
       "This function takes a \\texttt{msacontacts} or its list of contacts \\texttt{contact_list} with 1.0 for true contacts and 0.0 for not contacts (NaN or other numbers for missing values). Returns two \\texttt{BitVector}s, the first with \\texttt{true}s where \\texttt{contact_list} is 1.0 and the second with \\texttt{true}s where \\texttt{contact_list} is 0.0. There are useful for AUC calculations.\n"
      ],
      "text/markdown": [
       "This function takes a `msacontacts` or its list of contacts `contact_list` with 1.0 for true contacts and 0.0 for not contacts (NaN or other numbers for missing values). Returns two `BitVector`s, the first with `true`s where `contact_list` is 1.0 and the second with `true`s where `contact_list` is 0.0. There are useful for AUC calculations.\n"
      ],
      "text/plain": [
       "This function takes a `msacontacts` or its list of contacts `contact_list` with 1.0 for true contacts and 0.0 for not contacts (NaN or other numbers for missing values). Returns two `BitVector`s, the first with `true`s where `contact_list` is 1.0 and the second with `true`s where `contact_list` is 0.0. There are useful for AUC calculations.\n"
      ]
     },
     "execution_count": 11,
     "metadata": {},
     "output_type": "execute_result"
    }
   ],
   "source": [
    "?MIToS.Pfam.getcontactmasks"
   ]
  },
  {
   "cell_type": "code",
   "execution_count": 12,
   "metadata": {
    "collapsed": false
   },
   "outputs": [
    {
     "data": {
      "text/latex": [
       "\\texttt{AUC(scores::PairwiseListMatrix, msacontacts::PairwiseListMatrix)}\n",
       "Returns the Area Under a ROC (Receiver Operating Characteristic) Curve (AUC) of the \\texttt{scores} for \\texttt{msacontact} prediction. \\texttt{score} and \\texttt{msacontact} lists are vinculated (inner join) by their labels (i.e. column number in the file). \\texttt{msacontact} should have 1.0 for true contacts and 0.0 for not contacts (NaN or other numbers for missing values).\n",
       "\\texttt{AUC(scores::PairwiseListMatrix, true_contacts::BitVector, false_contacts::BitVector)}\n",
       "Returns the Area Under a ROC (Receiver Operating Characteristic) Curve (AUC) of the \\texttt{scores} for \\texttt{true_contacts} prediction. \\texttt{scores}, \\texttt{true_contacts} and \\texttt{false_contacts} should have the same number of elements and \\texttt{false_contacts} should be \\texttt{true} where there are not contacts.\n",
       "\\texttt{AUC(scores_list::Vector, true_contacts::BitVector, false_contacts::BitVector)}\n",
       "Returns the Area Under a ROC (Receiver Operating Characteristic) Curve (AUC) of the \\texttt{scores_list} for \\texttt{true_contacts} prediction. The three vectors should have the same length and \\texttt{false_contacts} should be \\texttt{true} where there are not contacts.\n"
      ],
      "text/markdown": [
       "`AUC(scores::PairwiseListMatrix, msacontacts::PairwiseListMatrix)`\n",
       "\n",
       "Returns the Area Under a ROC (Receiver Operating Characteristic) Curve (AUC) of the `scores` for `msacontact` prediction. `score` and `msacontact` lists are vinculated (inner join) by their labels (i.e. column number in the file). `msacontact` should have 1.0 for true contacts and 0.0 for not contacts (NaN or other numbers for missing values).\n",
       "\n",
       "`AUC(scores::PairwiseListMatrix, true_contacts::BitVector, false_contacts::BitVector)`\n",
       "\n",
       "Returns the Area Under a ROC (Receiver Operating Characteristic) Curve (AUC) of the `scores` for `true_contacts` prediction. `scores`, `true_contacts` and `false_contacts` should have the same number of elements and `false_contacts` should be `true` where there are not contacts.\n",
       "\n",
       "`AUC(scores_list::Vector, true_contacts::BitVector, false_contacts::BitVector)`\n",
       "\n",
       "Returns the Area Under a ROC (Receiver Operating Characteristic) Curve (AUC) of the `scores_list` for `true_contacts` prediction. The three vectors should have the same length and `false_contacts` should be `true` where there are not contacts.\n"
      ],
      "text/plain": [
       "`AUC(scores::PairwiseListMatrix, msacontacts::PairwiseListMatrix)`\n",
       "\n",
       "Returns the Area Under a ROC (Receiver Operating Characteristic) Curve (AUC) of the `scores` for `msacontact` prediction. `score` and `msacontact` lists are vinculated (inner join) by their labels (i.e. column number in the file). `msacontact` should have 1.0 for true contacts and 0.0 for not contacts (NaN or other numbers for missing values).\n",
       "\n",
       "`AUC(scores::PairwiseListMatrix, true_contacts::BitVector, false_contacts::BitVector)`\n",
       "\n",
       "Returns the Area Under a ROC (Receiver Operating Characteristic) Curve (AUC) of the `scores` for `true_contacts` prediction. `scores`, `true_contacts` and `false_contacts` should have the same number of elements and `false_contacts` should be `true` where there are not contacts.\n",
       "\n",
       "`AUC(scores_list::Vector, true_contacts::BitVector, false_contacts::BitVector)`\n",
       "\n",
       "Returns the Area Under a ROC (Receiver Operating Characteristic) Curve (AUC) of the `scores_list` for `true_contacts` prediction. The three vectors should have the same length and `false_contacts` should be `true` where there are not contacts.\n"
      ]
     },
     "execution_count": 12,
     "metadata": {},
     "output_type": "execute_result"
    }
   ],
   "source": [
    "?MIToS.Pfam.AUC"
   ]
  }
 ],
 "metadata": {
  "kernelspec": {
   "display_name": "Julia 0.4.5",
   "language": "julia",
   "name": "julia-0.4"
  },
  "language_info": {
   "file_extension": ".jl",
   "mimetype": "application/julia",
   "name": "julia",
   "version": "0.4.5"
  }
 },
 "nbformat": 4,
 "nbformat_minor": 0
}
