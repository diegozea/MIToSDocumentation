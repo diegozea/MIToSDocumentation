{
 "cells": [
  {
   "cell_type": "markdown",
   "metadata": {},
   "source": [
    "# Installation\n",
    "\n",
    "First you need the [current release of Julia<span class=\"fa fa-external-link\" aria-hidden=\"true\"></span>](http://julialang.org/downloads/) installed. The MIToS' stable version can be installed by typing on the Julia REPL:  \n",
    "\n",
    "```julia\n",
    "Pkg.add(\"MIToS\")\n",
    "```\n",
    "\n",
    "If everything goes well with the installation, MIToS will be loaded without errors by typing:  \n",
    "\n",
    "```julia \n",
    "using MIToS\n",
    "``` \n",
    "\n",
    "You can optionally do an exhaustive test of your installed version of MIToS with `Pkg.test` (it takes few seconds):  \n",
    "\n",
    "```julia\n",
    "Pkg.test(\"MIToS\")\n",
    "```"
   ]
  },
  {
   "cell_type": "markdown",
   "metadata": {},
   "source": [
    "<div class=\"panel panel-info\">\n",
    "    <div class=\"panel-heading\">\n",
    "        <strong>Ways to run Julia</strong>\n",
    "    </div>\n",
    "    <div class=\"panel-body\">\n",
    "        <dl class=\"dl-horizontal\">\n",
    "                 \n",
    "          <dt>\n",
    "              <a href=\"http://docs.julialang.org/en/stable/manual/getting-started/\">\n",
    "                  Julia REPL\n",
    "                  <span class=\"fa fa-external-link\" aria-hidden=\"true\"></span>\n",
    "              </a>\n",
    "          </dt>\n",
    "          <dd>Built-in Julia command line. Start an Julia interactive session (REPL) by double-clicking the Julia executable or running <code>julia</code> from the system command line.</dd>\n",
    "        \n",
    "          <dt>\n",
    "              <a href=\"https://www.juliabox.org/\">\n",
    "                  JuliaBox\n",
    "                  <span class=\"fa fa-external-link\" aria-hidden=\"true\"></span>\n",
    "              </a>\n",
    "          </dt>\n",
    "          <dd>You can try Julia from your <em>web browser</em>. <em>No installation is required.</em></dd>\n",
    "        \n",
    "          <dt>\n",
    "              <a href=\"https://github.com/JuliaLang/IJulia.jl\">\n",
    "                  IJulia\n",
    "                  <span class=\"fa fa-external-link\" aria-hidden=\"true\"></span>\n",
    "              </a>\n",
    "          </dt>\n",
    "          <dd><em>Jupyter/IPython notebook</em> for Julia. It was used for generating the <em>this</em> documentation.</dd>\n",
    "          \n",
    "          <dt>\n",
    "              <a href=\"http://junolab.org/\">\n",
    "                  Juno\n",
    "                  <span class=\"fa fa-external-link\" aria-hidden=\"true\"></span>\n",
    "              </a>\n",
    "          </dt>\n",
    "          <dd>Integrated Development Environment (IDE).</dd>\n",
    "          \n",
    "        </dl>\n",
    "    </div>\n",
    "</div>"
   ]
  },
  {
   "cell_type": "markdown",
   "metadata": {},
   "source": [
    "## Installation of Plots\n",
    "\n",
    "Julia plotting capabilities are available through external packages. MIToS make use of *RecipesBase* to define plot recipes, which can be plotted using [Plots<span class=\"fa fa-external-link\" aria-hidden=\"true\"></span>](https://juliaplots.github.io/) and different backends. You need to [install Plots<span class=\"fa fa-external-link\" aria-hidden=\"true\"></span>](https://juliaplots.github.io/install/) to plot MIToS objects:  \n",
    "\n",
    "```julia\n",
    "Pkg.add(\"Plots\")\n",
    "```\n",
    "\n",
    "And you also need to install at least one of the following backends:  \n",
    "\n",
    "```julia\n",
    "Pkg.add(\"PyPlot\")\n",
    "Pkg.add(\"GR\")\n",
    "Pkg.add(\"PlotlyJS\")\n",
    "```\n",
    "\n",
    "You need to load Plots in order to use the `plot` function. There is more information about it in the [Plots documentation<span class=\"fa fa-external-link\" aria-hidden=\"true\"></span>](https://juliaplots.github.io/).  \n",
    "\n",
    "```julia\n",
    "using Plots\n",
    "```\n",
    "  \n",
    "To generate **graph** (network), **arc** and **chord** (circo) **plots**, you also need to install and load [PlotRecipes<span class=\"fa fa-external-link\" aria-hidden=\"true\"></span>](https://github.com/JuliaPlots/PlotRecipes.jl).  \n",
    "  \n",
    "```julia  \n",
    "Pkg.add(\"PlotRecipes\")\n",
    "\n",
    "using PlotRecipes\n",
    "```"
   ]
  },
  {
   "cell_type": "markdown",
   "metadata": {},
   "source": [
    "## Location of scripts\n",
    "\n",
    "The MIToS’ scripts are located in the `MIToS/scripts` folder and can be runned from your system command line.  \n",
    "It’s possible to ask Julia for the location of the installed package using `Pkg.dir`  "
   ]
  },
  {
   "cell_type": "code",
   "execution_count": 1,
   "metadata": {
    "collapsed": false
   },
   "outputs": [
    {
     "data": {
      "text/plain": [
       "\"/home/dzea/.julia/v0.4/MIToS/scripts\""
      ]
     },
     "execution_count": 1,
     "metadata": {},
     "output_type": "execute_result"
    }
   ],
   "source": [
    "joinpath(Pkg.dir(\"MIToS\"), \"scripts\")"
   ]
  },
  {
   "cell_type": "markdown",
   "metadata": {},
   "source": [
    "You might want to add this folder into your `PATH` to easily access MIToS’ scripts.  \n",
    "\n",
    "### How to add the script folder to `PATH` in Bash?\n",
    "\n",
    "You can do it by adding the path of the MIToS script folder into the `~/.bashrc` file: "
   ]
  },
  {
   "cell_type": "code",
   "execution_count": 2,
   "metadata": {
    "collapsed": false
   },
   "outputs": [],
   "source": [
    "open(joinpath(homedir(), \".bashrc\"), \"r+\") do fh\n",
    "    path_to_scripts = joinpath(Pkg.dir(\"MIToS\"), \"scripts\")\n",
    "    if all(line -> !contains(line, path_to_scripts), eachline(fh))\n",
    "        println(fh, \"export PATH=\\\"\\$PATH:\", path_to_scripts, \"\\\"\")\n",
    "    end\n",
    "end"
   ]
  },
  {
   "cell_type": "code",
   "execution_count": 3,
   "metadata": {
    "collapsed": false
   },
   "outputs": [
    {
     "name": "stdout",
     "output_type": "stream",
     "text": [
      "export PATH=\"$PATH:/home/dzea/.julia/v0.4/MIToS/scripts\"\n"
     ]
    }
   ],
   "source": [
    ";tail -1 ~/.bashrc"
   ]
  },
  {
   "cell_type": "markdown",
   "metadata": {},
   "source": [
    "<div class=\"panel panel-info\">\n",
    "    <div class=\"panel-heading\">\n",
    "        <strong>Julia shell mode</strong>\n",
    "    </div>\n",
    "    <div class=\"panel-body\">\n",
    "        <p>A semicolon (<code>;</code>) next to Julia prompt, at the beginning of the line, enters the shell mode. This mode uses the system shell to execute system commands.</p>\n",
    "    </div>\n",
    "</div>"
   ]
  }
 ],
 "metadata": {
  "kernelspec": {
   "display_name": "Julia 0.4.5",
   "language": "julia",
   "name": "julia-0.4"
  },
  "language_info": {
   "file_extension": ".jl",
   "mimetype": "application/julia",
   "name": "julia",
   "version": "0.4.5"
  }
 },
 "nbformat": 4,
 "nbformat_minor": 0
}
