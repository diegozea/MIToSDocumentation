{
 "cells": [
  {
   "cell_type": "markdown",
   "metadata": {},
   "source": [
    "# Pfam"
   ]
  },
  {
   "cell_type": "markdown",
   "metadata": {},
   "source": [
    "MIToS defines methods and types useful for any MSA. The `Pfam` module uses other MIToS modules in the context of Pfam MSAs, where it’s possible to us determine how structure and sequence information should be mapped. This module defines functions that go from a Pfam MSA to the protein contact prediction performance of pairwise scores estimated from that MSA.\n",
    "\n",
    "## Features\n",
    "\n",
    "- [**Download and read**](#Getting-a-Pfam-MSA) Pfam MSAs\n",
    "- Obtain [**PDB information**](#Getting-PDB-information-from-an-MSA) from alignment annotations\n",
    "- [**Map**](#Getting-PDB-information-from-an-MSA) between sequence/alignment residues/columns and PDB structures\n",
    "- Measure of [**AUC**](#PDB-contacts-and-AUC) (ROC curve) for [**protein contact**](#PDB-contacts-and-AUC) prediction of MI scores"
   ]
  },
  {
   "cell_type": "code",
   "execution_count": 2,
   "metadata": {
    "collapsed": true
   },
   "outputs": [],
   "source": [
    "using MIToS.Pfam"
   ]
  },
  {
   "cell_type": "markdown",
   "metadata": {},
   "source": [
    "## Contents"
   ]
  },
  {
   "cell_type": "markdown",
   "metadata": {},
   "source": [
    "- [Getting a Pfam MSA](#Getting-a-Pfam-MSA)\n",
    "- [Getting PDB information from and MSA](#Getting-PDB-information-from-an-MSA)\n",
    "- [PDB contacts and AUC](#PDB-contacts-and-AUC)"
   ]
  },
  {
   "cell_type": "code",
   "execution_count": 9,
   "metadata": {
    "collapsed": true
   },
   "outputs": [],
   "source": [
    "# Truncate IJulia outputs at:\n",
    "ENV[\"LINES\"]   = 15 \n",
    "ENV[\"COLUMNS\"] = 60;"
   ]
  },
  {
   "cell_type": "markdown",
   "metadata": {},
   "source": [
    "<a href=\"#\"><i class=\"fa fa-arrow-up\"></i></a>\n",
    "\n",
    "## Getting a Pfam MSA"
   ]
  },
  {
   "cell_type": "markdown",
   "metadata": {},
   "source": [
    "The function `downloadpfam` takes a Pfam accession and downloads a Pfam MSA in Stockholm format. Use `read` function and the `Stockholm` `Format` to get a `AnnotatedMultipleSequenceAlignment` object with the MSA and its Pfam annotations. You must set `generatemapping` and `useidcoordinates` to `true` the first time you read the downloaded MSA. This is necessary to some of the methods in the `Pfam` module."
   ]
  },
  {
   "cell_type": "code",
   "execution_count": 41,
   "metadata": {
    "collapsed": false
   },
   "outputs": [
    {
     "name": "stderr",
     "output_type": "stream",
     "text": [
      "  % Total    % Received % Xferd  Average Speed   Time    Time     Time  Current\n",
      "                                 Dload  Upload   Total   Spent    Left  Speed\n",
      "100 73781  100 73781    0     0  32697      0  0:00:02  0:00:02 --:--:-- 32704\n"
     ]
    },
    {
     "data": {
      "text/plain": [
       "\"PF12464.stockholm.gz\""
      ]
     },
     "execution_count": 41,
     "metadata": {},
     "output_type": "execute_result"
    }
   ],
   "source": [
    "pfamfile = downloadpfam(\"PF12464\")"
   ]
  },
  {
   "cell_type": "code",
   "execution_count": 42,
   "metadata": {
    "collapsed": false
   },
   "outputs": [
    {
     "data": {
      "text/plain": [
       "1157x53 MIToS.MSA.AnnotatedMultipleSequenceAlignment:\n",
       " R  M  S  S  G  Q  L  Y  I  …  M  K  G  F  F  G  A  C  G\n",
       " -  C  R  L  G  E  L  Y  N     I  R  D  L  L  G  K  T  G\n",
       " R  M  L  A  G  L  P  Y  R     L  A  E  I  L  G  K  C  G\n",
       " K  M  L  A  G  E  L  Y  D     L  K  E  L  L  G  -  -  -\n",
       " R  M  L  L  G  L  P  Y  K     T  R  E  I  L  Y  K  V  G\n",
       " ⋮              ⋮           ⋱     ⋮              ⋮      \n",
       " K  M  T  A  G  E  W  Y  C     L  A  L  L  F  A  K  -  -\n",
       " K  M  I  A  G  D  L  Y  F     V  K  E  T  F  G  S  V  G\n",
       " -  -  -  -  -  L  P  Y  Y     L  R  K  L  L  G  K  T  G\n",
       " R  M  I  S  G  M  L  Y  N  …  L  R  E  I  L  G  S  I  -\n",
       " K  M  I  Q  G  E  L  Y  Y     -  -  -  -  -  -  -  -  -"
      ]
     },
     "execution_count": 42,
     "metadata": {},
     "output_type": "execute_result"
    }
   ],
   "source": [
    "msa = read(pfamfile, Stockholm, generatemapping=true, useidcoordinates=true)"
   ]
  },
  {
   "cell_type": "markdown",
   "metadata": {},
   "source": [
    "<a href=\"#\"><i class=\"fa fa-arrow-up\"></i></a>\n",
    "\n",
    "## Getting PDB information from an MSA"
   ]
  },
  {
   "cell_type": "markdown",
   "metadata": {},
   "source": [
    "The function `getseq2pdb` parses the MSA annotations to return a `Dict` from the sequence identifier in the MSA to PDB and chain codes."
   ]
  },
  {
   "cell_type": "code",
   "execution_count": 43,
   "metadata": {
    "collapsed": false
   },
   "outputs": [
    {
     "data": {
      "text/plain": [
       "Dict{ASCIIString,Array{Tuple{ASCIIString,ASCIIString},1}} with 5 entries:\n",
       "  \"Q18A66_PEPD6/6-5… => [(\"4ISX\",\"A\"),(\"3SRT\",\"B\"),(\"3SRT\",…\n",
       "  \"THGA_ECOLI/8-59\"  => [(\"1KRR\",\"B\"),(\"1KRU\",\"A\"),(\"1KRV\",…\n",
       "  \"MAA_ECOLI/7-58\"   => [(\"1OCX\",\"C\"),(\"1OCX\",\"A\"),(\"1OCX\",…\n",
       "  \"Q9KLB0_VIBCH/8-5… => [(\"3NZ2\",\"J\"),(\"3NZ2\",\"D\"),(\"3NZ2\",…\n",
       "  \"Q81N16_BACAN/7-5… => [(\"3HJJ\",\"C\"),(\"3IGJ\",\"C\"),(\"3IGJ\",…"
      ]
     },
     "execution_count": 43,
     "metadata": {},
     "output_type": "execute_result"
    }
   ],
   "source": [
    "getseq2pdb(msa)"
   ]
  },
  {
   "cell_type": "markdown",
   "metadata": {},
   "source": [
    "Once you know the association between PDB chains and sequences, you can use that information together with the `msacolumn2pdbresidue` function to get the PDB residue number that correspond to each MSA column for given a determined sequence and PDB chain. That function downloads information from SIFTS to generate the mapping."
   ]
  },
  {
   "cell_type": "code",
   "execution_count": 44,
   "metadata": {
    "collapsed": false
   },
   "outputs": [
    {
     "name": "stderr",
     "output_type": "stream",
     "text": [
      "  % Total    % Received % Xferd  Average Speed   Time    Time     Time  Current\n",
      "                                 Dload  Upload   Total   Spent    Left  Speed\n",
      "100 22683  100 22683    0     0   4074      0  0:00:05  0:00:05 --:--:--  4436\n"
     ]
    },
    {
     "data": {
      "text/plain": [
       "Dict{Int64,ASCIIString} with 51 entries:\n",
       "  46  => \"21\"\n",
       "  134 => \"48\"\n",
       "  136 => \"50\"\n",
       "  55  => \"29\"\n",
       "  66  => \"38\"\n",
       "  58  => \"32\"\n",
       "  59  => \"33\"\n",
       "  142 => \"56\"\n",
       "  139 => \"53\"\n",
       "  57  => \"31\"\n",
       "  ⋮   => ⋮"
      ]
     },
     "execution_count": 44,
     "metadata": {},
     "output_type": "execute_result"
    }
   ],
   "source": [
    "col2res = msacolumn2pdbresidue(msa, \"MAA_ECOLI/7-58\", \"1OCX\", \"C\")"
   ]
  },
  {
   "cell_type": "markdown",
   "metadata": {},
   "source": [
    "The returned dictionary can be used to get the PDB residue associated to each column (using the `msaresidues` function)..."
   ]
  },
  {
   "cell_type": "code",
   "execution_count": 47,
   "metadata": {
    "collapsed": false
   },
   "outputs": [
    {
     "name": "stderr",
     "output_type": "stream",
     "text": [
      "  % Total    % Received % Xferd  Average Speed   Time    Time     Time  Current\n",
      "                                 Dload  Upload   Total   Spent    Left  Speed\n",
      "  0     0    0     0    0     0      0      0 --:--:-- --:--:-- --:--:--     0\n",
      "100  355k  100  355k    0     0   178k      0  0:00:01  0:00:01 --:--:--  757k\n"
     ]
    },
    {
     "data": {
      "text/plain": [
       "DataStructures.OrderedDict{Int64,MIToS.PDB.PDBResidue} with 51 entries:\n",
       "  14 => PDBResidue:…\n",
       "  15 => PDBResidue:…\n",
       "  16 => PDBResidue:…\n",
       "  17 => PDBResidue:…\n",
       "  18 => PDBResidue:…\n",
       "  19 => PDBResidue:…\n",
       "  20 => PDBResidue:…\n",
       "  21 => PDBResidue:…\n",
       "  22 => PDBResidue:…\n",
       "  24 => PDBResidue:…\n",
       "  ⋮  => ⋮"
      ]
     },
     "execution_count": 47,
     "metadata": {},
     "output_type": "execute_result"
    }
   ],
   "source": [
    "using MIToS.PDB\n",
    "pdbfile = downloadpdb(\"1OCX\")\n",
    "pdb = read(pdbfile, PDBML)\n",
    "resdict = @residuesdict pdb model \"1\" chain \"C\" group \"ATOM\" residue \"*\"\n",
    "\n",
    "msaresidues(msa, resdict, col2res)"
   ]
  },
  {
   "cell_type": "markdown",
   "metadata": {},
   "source": [
    "...or to delete the columns without PDB residues (using the `hasresidues` function):"
   ]
  },
  {
   "cell_type": "code",
   "execution_count": 48,
   "metadata": {
    "collapsed": false
   },
   "outputs": [
    {
     "data": {
      "text/plain": [
       "1157x51 MIToS.MSA.AnnotatedMultipleSequenceAlignment:\n",
       " R  M  S  S  G  Q  L  Y  I  …  L  M  K  G  F  F  G  A  C\n",
       " -  C  R  L  G  E  L  Y  N     I  I  R  D  L  L  G  K  T\n",
       " R  M  L  A  G  L  P  Y  R     L  L  A  E  I  L  G  K  C\n",
       " K  M  L  A  G  E  L  Y  D     I  L  K  E  L  L  G  -  -\n",
       " R  M  L  L  G  L  P  Y  K     L  T  R  E  I  L  Y  K  V\n",
       " ⋮              ⋮           ⋱           ⋮              ⋮\n",
       " K  M  T  A  G  E  W  Y  C     A  L  A  L  L  F  A  K  -\n",
       " K  M  I  A  G  D  L  Y  F     R  V  K  E  T  F  G  S  V\n",
       " -  -  -  -  -  L  P  Y  Y     R  L  R  K  L  L  G  K  T\n",
       " R  M  I  S  G  M  L  Y  N  …  M  L  R  E  I  L  G  S  I\n",
       " K  M  I  Q  G  E  L  Y  Y     -  -  -  -  -  -  -  -  -"
      ]
     },
     "execution_count": 48,
     "metadata": {},
     "output_type": "execute_result"
    }
   ],
   "source": [
    "using MIToS.MSA\n",
    "filtercolumns!(msa, hasresidues(msa, col2res))"
   ]
  },
  {
   "cell_type": "markdown",
   "metadata": {},
   "source": [
    "<a href=\"#\"><i class=\"fa fa-arrow-up\"></i></a>\n",
    "\n",
    "### PDB contacts and AUC"
   ]
  },
  {
   "cell_type": "markdown",
   "metadata": {},
   "source": [
    "The `Dict` between MSA columns and PDB residue number also can be used to generate a protein contact map associated to the MSA."
   ]
  },
  {
   "cell_type": "code",
   "execution_count": 52,
   "metadata": {
    "collapsed": false
   },
   "outputs": [
    {
     "data": {
      "text/plain": [
       "51x51 PairwiseListMatrices.PairwiseListMatrix{Float64,false}:\n",
       " NaN      1.0    1.0    1.0  …    0.0    0.0    0.0\n",
       "   1.0  NaN      1.0    1.0       0.0    0.0    0.0\n",
       "   1.0    1.0  NaN      1.0       0.0    0.0    0.0\n",
       "   1.0    1.0    1.0  NaN         0.0    0.0    0.0\n",
       "   1.0    1.0    1.0    1.0       0.0    0.0    0.0\n",
       "   ⋮                         ⋱                  ⋮  \n",
       "   0.0    0.0    0.0    0.0       1.0    0.0    0.0\n",
       "   0.0    0.0    0.0    0.0       1.0    1.0    1.0\n",
       "   0.0    0.0    0.0    0.0     NaN      1.0    1.0\n",
       "   0.0    0.0    0.0    0.0       1.0  NaN      1.0\n",
       "   0.0    0.0    0.0    0.0  …    1.0    1.0  NaN  "
      ]
     },
     "execution_count": 52,
     "metadata": {},
     "output_type": "execute_result"
    }
   ],
   "source": [
    "cmap = msacontacts(msa, resdict, col2res)"
   ]
  },
  {
   "cell_type": "markdown",
   "metadata": {},
   "source": [
    "That protein contact map can be used to calculate the Area Under the ROC Curve for a given score with the `AUC` function."
   ]
  },
  {
   "cell_type": "code",
   "execution_count": 58,
   "metadata": {
    "collapsed": false
   },
   "outputs": [
    {
     "data": {
      "text/plain": [
       "0.7549031963326455"
      ]
     },
     "execution_count": 58,
     "metadata": {},
     "output_type": "execute_result"
    }
   ],
   "source": [
    "using MIToS.Information\n",
    "ZMIp, MIp = buslje09(msa)\n",
    "\n",
    "AUC(ZMIp, cmap)"
   ]
  }
 ],
 "metadata": {
  "kernelspec": {
   "display_name": "Julia 0.4.2",
   "language": "julia",
   "name": "julia-0.4"
  },
  "language_info": {
   "file_extension": ".jl",
   "mimetype": "application/julia",
   "name": "julia",
   "version": "0.4.2"
  }
 },
 "nbformat": 4,
 "nbformat_minor": 0
}
